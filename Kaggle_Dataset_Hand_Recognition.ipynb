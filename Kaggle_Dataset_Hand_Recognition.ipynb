{
  "cells": [
    {
      "attachments": {},
      "cell_type": "markdown",
      "metadata": {
        "id": "1YSc4DbplGLd"
      },
      "source": [
        "### Data Preprocessing"
      ]
    },
    {
      "cell_type": "code",
      "execution_count": null,
      "metadata": {
        "id": "c6Fs3wmtlGLg"
      },
      "outputs": [],
      "source": [
        "import numpy as np\n",
        "import pandas as pd \n",
        "import matplotlib.pyplot as plt\n",
        "import seaborn as sns\n",
        "from sklearn.model_selection import train_test_split\n",
        "from sklearn.preprocessing import StandardScaler\n",
        "from sklearn.ensemble import RandomForestClassifier\n",
        "from sklearn import svm\n",
        "from sklearn.naive_bayes import GaussianNB\n",
        "from sklearn.metrics import accuracy_score,f1_score,precision_score,recall_score,confusion_matrix,classification_report\n",
        "import tensorflow as tf\n",
        "import xgboost as xgb\n",
        "from tensorflow import keras\n",
        "from tensorflow.keras import layers\n"
      ]
    },
    {
      "cell_type": "code",
      "execution_count": null,
      "metadata": {
        "colab": {
          "base_uri": "https://localhost:8080/"
        },
        "id": "FMIl5UAUlGLh",
        "outputId": "d0d53c72-c8c3-4d2c-ac24-e8caa2967c8f"
      },
      "outputs": [],
      "source": [
        "df = pd.read_csv('emg_all_features_labeled.csv')\n",
        "raw = pd.read_csv('index_finger_motion_raw.csv')\n",
        "print(df.shape, raw.shape)"
      ]
    },
    {
      "attachments": {},
      "cell_type": "markdown",
      "metadata": {
        "id": "mU7ayDz2lGLj"
      },
      "source": [
        "### Data Exploration"
      ]
    },
    {
      "cell_type": "code",
      "execution_count": null,
      "metadata": {
        "colab": {
          "base_uri": "https://localhost:8080/",
          "height": 235
        },
        "id": "3G05SH69lGLj",
        "outputId": "ed77a7e7-d900-412b-97e3-da79cb4f2f86"
      },
      "outputs": [],
      "source": [
        "df.head()"
      ]
    },
    {
      "cell_type": "code",
      "execution_count": null,
      "metadata": {
        "colab": {
          "base_uri": "https://localhost:8080/",
          "height": 393
        },
        "id": "ERDAhBa4lGLk",
        "outputId": "24124522-0625-40f8-b9e6-d1e43171cda4"
      },
      "outputs": [],
      "source": [
        "df.describe()"
      ]
    },
    {
      "cell_type": "code",
      "execution_count": null,
      "metadata": {
        "colab": {
          "base_uri": "https://localhost:8080/"
        },
        "id": "xXXMuYgOlGLk",
        "outputId": "6a085d4b-d023-4bbc-93e3-0a25c698ab0c"
      },
      "outputs": [],
      "source": [
        "df.info()"
      ]
    },
    {
      "cell_type": "code",
      "execution_count": null,
      "metadata": {
        "colab": {
          "base_uri": "https://localhost:8080/",
          "height": 427
        },
        "id": "GJw_Di9BlGLk",
        "outputId": "66a160d4-5c4e-4f0a-d470-9f057533fde8"
      },
      "outputs": [],
      "source": [
        "def plot_data(data):    \n",
        "    fig, axes = plt.subplots(2,4, figsize=(30, 8), sharex=True, sharey=True)\n",
        "    for i in range(2):\n",
        "        for j in range(4):\n",
        "            axes[i][j].plot(data.iloc[:,i*j])\n",
        "            axes[i][j].set_title('Electrode ' + str(i*4 + j + 1))\n",
        "            axes[i][j].set_xlabel('Voltage')\n",
        "            axes[i][j].set_ylabel('EMG data points')\n",
        "\n",
        "        \n",
        "plot_data(raw)\n"
      ]
    },
    {
      "attachments": {},
      "cell_type": "markdown",
      "metadata": {
        "id": "hjYwBDu6UMGs"
      },
      "source": [
        "### Inferences from the Graph\n",
        "1. Sharp spikes or points in an EMG plot can indicate the activation of a muscle or group of muscles. When a muscle contracts, it generates an electrical signal that is recorded by the EMG electrodes. This signal appears as a sharp spike or point in the EMG plot.\n",
        "2. The size and shape of the spike can provide information about the strength and duration of the muscle contraction. A larger and longer spike typically indicates a stronger and more sustained muscle contraction.\n",
        "3. Sharp spikes or points in an EMG plot can also be caused by noise or interference in the recording system, or by movement artifacts.\n"
      ]
    },
    {
      "attachments": {},
      "cell_type": "markdown",
      "metadata": {
        "id": "TJWEVkqelGLk"
      },
      "source": [
        "### Splitting the dataset into train and test set"
      ]
    },
    {
      "cell_type": "code",
      "execution_count": null,
      "metadata": {
        "colab": {
          "base_uri": "https://localhost:8080/"
        },
        "id": "zQtaO6utlGLl",
        "outputId": "4084faca-6166-4447-ad89-e221268c086e"
      },
      "outputs": [],
      "source": [
        "x = df.iloc[:,:80].copy()\n",
        "y = df.iloc[:,80].copy()\n",
        "print(x.shape)\n",
        "print(y.shape)\n",
        "x_train, x_test, y_train, y_test = train_test_split(x, y, test_size=0.25, random_state=1)"
      ]
    },
    {
      "cell_type": "code",
      "execution_count": null,
      "metadata": {
        "colab": {
          "base_uri": "https://localhost:8080/"
        },
        "id": "1mMseE9-1l4K",
        "outputId": "45c56249-a526-4e95-b18e-de54552c154d"
      },
      "outputs": [],
      "source": [
        "y.value_counts()"
      ]
    },
    {
      "attachments": {},
      "cell_type": "markdown",
      "metadata": {
        "id": "xgrUG2oelGLl"
      },
      "source": [
        "### Feature Scaling"
      ]
    },
    {
      "cell_type": "code",
      "execution_count": null,
      "metadata": {
        "id": "8prgc5LDlGLl"
      },
      "outputs": [],
      "source": [
        "SC = StandardScaler()\n",
        "x_train = pd.DataFrame(SC.fit_transform(x_train))\n",
        "x_test = pd.DataFrame(SC.transform(x_test))"
      ]
    },
    {
      "cell_type": "code",
      "execution_count": null,
      "metadata": {
        "id": "6droYzgblGLm"
      },
      "outputs": [],
      "source": [
        "from sklearn.preprocessing import LabelEncoder\n",
        "le = LabelEncoder()\n",
        "y_train = le.fit_transform(y_train)\n",
        "y_test = le.fit_transform(y_test)"
      ]
    },
    {
      "cell_type": "code",
      "execution_count": null,
      "metadata": {
        "id": "-Kc0abKSJ6nD"
      },
      "outputs": [],
      "source": [
        "evalset = [(x_train, y_train), (x_test,y_test)]"
      ]
    },
    {
      "attachments": {},
      "cell_type": "markdown",
      "metadata": {
        "id": "lgsemix2m_Vj"
      },
      "source": [
        "### Random Forest\n"
      ]
    },
    {
      "cell_type": "code",
      "execution_count": null,
      "metadata": {
        "id": "oMKewJSdnT5e"
      },
      "outputs": [],
      "source": [
        "model_RF = RandomForestClassifier(n_estimators = 100, random_state=1)"
      ]
    },
    {
      "cell_type": "code",
      "execution_count": null,
      "metadata": {
        "colab": {
          "base_uri": "https://localhost:8080/",
          "height": 74
        },
        "id": "5FRRnmCUnXOK",
        "outputId": "84dd6ab3-573c-49c8-fd1e-00918ac7e436"
      },
      "outputs": [],
      "source": [
        "model_RF.fit(x_train, y_train)"
      ]
    },
    {
      "cell_type": "code",
      "execution_count": null,
      "metadata": {
        "colab": {
          "base_uri": "https://localhost:8080/"
        },
        "id": "OLCDPMdJnfL0",
        "outputId": "62ce92f1-9cb1-4d60-f118-1a9cac6864fa"
      },
      "outputs": [],
      "source": [
        "y_pred = model_RF.predict(x_test)\n",
        "accuracy_rf = accuracy_score(y_test, y_pred)\n",
        "print(\"Accuracy for RF: %.2f%%\" % (accuracy_rf * 100.00))"
      ]
    },
    {
      "cell_type": "code",
      "execution_count": null,
      "metadata": {
        "id": "CZ4C8lu1pT_T"
      },
      "outputs": [],
      "source": [
        "acc = accuracy_score(y_test,y_pred)\n",
        "f1 = f1_score(y_test,y_pred,average='macro')\n",
        "prec = precision_score(y_test,y_pred,average='macro')\n",
        "rec = recall_score(y_test,y_pred,average='macro')"
      ]
    },
    {
      "cell_type": "code",
      "execution_count": null,
      "metadata": {
        "id": "8tOeyJjwr5xv"
      },
      "outputs": [],
      "source": [
        "results = pd.DataFrame(pd.DataFrame([['Random Forest', acc, f1, prec, rec]],\n",
        "               columns = ['Model', 'Accuracy', 'F1 Score', 'Precision', 'Recall']))"
      ]
    },
    {
      "cell_type": "code",
      "execution_count": null,
      "metadata": {
        "colab": {
          "base_uri": "https://localhost:8080/",
          "height": 81
        },
        "id": "Ifwenc4er_kC",
        "outputId": "93a3abee-5a7b-4909-a8d2-1456fbd79833"
      },
      "outputs": [],
      "source": [
        "results"
      ]
    },
    {
      "cell_type": "code",
      "execution_count": null,
      "metadata": {
        "id": "cU7_9elw1-d2"
      },
      "outputs": [],
      "source": [
        "y_true = np.array(y_test)"
      ]
    },
    {
      "cell_type": "code",
      "execution_count": null,
      "metadata": {
        "id": "94LWXlbFn8XX"
      },
      "outputs": [],
      "source": [
        "cm_rf = confusion_matrix(y_true, y_pred)"
      ]
    },
    {
      "cell_type": "code",
      "execution_count": null,
      "metadata": {},
      "outputs": [],
      "source": [
        "class_report = classification_report(y_true, y_pred)\n",
        "print(\"Classification Report:\\n\", class_report)"
      ]
    },
    {
      "cell_type": "code",
      "execution_count": null,
      "metadata": {
        "colab": {
          "base_uri": "https://localhost:8080/",
          "height": 472
        },
        "id": "_4zp-XVh3HP4",
        "outputId": "e9f2f76f-d978-4f92-b710-85ddc193cd5b"
      },
      "outputs": [],
      "source": [
        "# Plot the accuracy graph\n",
        "n_estimators = range(1, 101)  # Number of estimators to plot\n",
        "train_accuracy = []\n",
        "test_accuracy = []\n",
        "\n",
        "for n in n_estimators:\n",
        "    model_rf = RandomForestClassifier(n_estimators=n)\n",
        "    model_rf.fit(x_train, y_train)\n",
        "    y_train_pred = model_rf.predict(x_train)\n",
        "    y_test_pred = model_rf.predict(x_test)\n",
        "    train_accuracy.append(accuracy_score(y_train, y_train_pred))\n",
        "    test_accuracy.append(accuracy_score(y_test, y_test_pred))\n",
        "\n",
        "plt.plot(n_estimators, train_accuracy, label='Train Accuracy')\n",
        "plt.plot(n_estimators, test_accuracy, label='Test Accuracy')\n",
        "plt.xlabel('Number of Estimators')\n",
        "plt.ylabel('Accuracy')\n",
        "plt.title('Random Forest Classifier Accuracy during Training')\n",
        "plt.legend()\n",
        "plt.show()"
      ]
    },
    {
      "cell_type": "code",
      "execution_count": null,
      "metadata": {
        "colab": {
          "base_uri": "https://localhost:8080/",
          "height": 718
        },
        "id": "Ne-sCnsTn_pw",
        "outputId": "ec72b0ca-1884-4ed4-ad0d-8ac933cc9360"
      },
      "outputs": [],
      "source": [
        "plt.figure(figsize = (15,8))\n",
        "sns.heatmap(cm_rf, annot=True, fmt='g', cmap='gist_heat', cbar=True)\n",
        "plt.xlabel(\"Predicted\")\n",
        "plt.ylabel(\"Actual\")\n",
        "plt.title(\"Confusion Matrix for RF\")\n",
        "plt.show()"
      ]
    },
    {
      "attachments": {},
      "cell_type": "markdown",
      "metadata": {
        "id": "c2RSR46CoCjj"
      },
      "source": [
        "### XGB Classifier"
      ]
    },
    {
      "cell_type": "code",
      "execution_count": null,
      "metadata": {
        "id": "zVGSKpSloI_h"
      },
      "outputs": [],
      "source": [
        "model_XGB = xgb.XGBClassifier()"
      ]
    },
    {
      "cell_type": "code",
      "execution_count": null,
      "metadata": {
        "colab": {
          "base_uri": "https://localhost:8080/",
          "height": 304
        },
        "id": "0zpkKc-2oK0q",
        "outputId": "90d82b06-d559-4258-832e-494262a1b340"
      },
      "outputs": [],
      "source": [
        "model_XGB.fit(x_train, y_train, eval_metric='merror', eval_set=evalset, verbose=False)"
      ]
    },
    {
      "cell_type": "code",
      "execution_count": null,
      "metadata": {
        "colab": {
          "base_uri": "https://localhost:8080/"
        },
        "id": "cz-JKWY9oTdG",
        "outputId": "d9be1177-aea6-4256-a309-1799e2d7a3b4"
      },
      "outputs": [],
      "source": [
        "y_pred = model_XGB.predict(x_test)\n",
        "accuracy_xgb = accuracy_score(y_test, y_pred)\n",
        "print(\"Accuracy for XGB: %.2f%%\" % (accuracy_xgb * 100.00))"
      ]
    },
    {
      "cell_type": "code",
      "execution_count": null,
      "metadata": {
        "id": "STcEE8qcydRt"
      },
      "outputs": [],
      "source": [
        "acc = accuracy_score(y_test,y_pred)\n",
        "f1 = f1_score(y_test,y_pred,average='macro')\n",
        "prec = precision_score(y_test,y_pred,average='macro')\n",
        "rec = recall_score(y_test,y_pred,average='macro')"
      ]
    },
    {
      "cell_type": "code",
      "execution_count": null,
      "metadata": {
        "id": "ZdMadU9NzArp"
      },
      "outputs": [],
      "source": [
        "result_xgb = pd.DataFrame(pd.DataFrame([['XGB Classifier', acc, f1, prec, rec]],\n",
        "               columns = ['Model', 'Accuracy', 'F1 Score', 'Precision', 'Recall']))"
      ]
    },
    {
      "cell_type": "code",
      "execution_count": null,
      "metadata": {
        "colab": {
          "base_uri": "https://localhost:8080/",
          "height": 81
        },
        "id": "OP9Ox_yF0Wq6",
        "outputId": "15099f76-ea08-4f67-da1f-62722699d079"
      },
      "outputs": [],
      "source": [
        "result_xgb"
      ]
    },
    {
      "cell_type": "code",
      "execution_count": null,
      "metadata": {
        "id": "c1Qy_ffdzSF6"
      },
      "outputs": [],
      "source": [
        "results= pd.concat([results, result_xgb], ignore_index= True)"
      ]
    },
    {
      "cell_type": "code",
      "execution_count": null,
      "metadata": {
        "id": "VNPwEScBIx4v"
      },
      "outputs": [],
      "source": [
        "accuracy_results = model_XGB.evals_result()\n",
        "train_accuracy = accuracy_results['validation_0']['merror']\n",
        "test_accuracy = accuracy_results['validation_1']['merror']"
      ]
    },
    {
      "cell_type": "code",
      "execution_count": null,
      "metadata": {
        "colab": {
          "base_uri": "https://localhost:8080/",
          "height": 472
        },
        "id": "_Mfz9WMUKXPi",
        "outputId": "1355482f-9f7d-405d-db45-c8c0be0d57c8"
      },
      "outputs": [],
      "source": [
        "# Plot the accuracy graph\n",
        "plt.plot(train_accuracy, label='Train Accuracy')\n",
        "plt.plot(test_accuracy, label='Test Accuracy')\n",
        "plt.xlabel('Number of Iterations')\n",
        "plt.ylabel('Accuracy')\n",
        "plt.title('XGB Classifier Accuracy during Training')\n",
        "plt.legend()\n",
        "plt.show()"
      ]
    },
    {
      "cell_type": "code",
      "execution_count": null,
      "metadata": {
        "id": "zmLlDcmnogV9"
      },
      "outputs": [],
      "source": [
        "cm_xgb = confusion_matrix(y_true, y_pred)"
      ]
    },
    {
      "cell_type": "code",
      "execution_count": null,
      "metadata": {},
      "outputs": [],
      "source": [
        "class_report = classification_report(y_true, y_pred)\n",
        "print(\"Classification Report:\\n\", class_report)"
      ]
    },
    {
      "cell_type": "code",
      "execution_count": null,
      "metadata": {
        "colab": {
          "base_uri": "https://localhost:8080/",
          "height": 718
        },
        "id": "7HrKaSZHoi-r",
        "outputId": "6e815630-42ed-49e8-de00-58f37fa60e85"
      },
      "outputs": [],
      "source": [
        "plt.figure(figsize = (15,8))\n",
        "sns.heatmap(cm_xgb, annot=True, fmt='g', cmap='gist_heat',cbar=True)\n",
        "plt.xlabel(\"Predicted\")\n",
        "plt.ylabel(\"Actual\")\n",
        "plt.title(\"Confusion Matrix for XGB\")\n",
        "plt.show()"
      ]
    },
    {
      "attachments": {},
      "cell_type": "markdown",
      "metadata": {
        "id": "8qLBe7AhtExR"
      },
      "source": [
        "### SVM Classifier\n"
      ]
    },
    {
      "cell_type": "code",
      "execution_count": null,
      "metadata": {
        "id": "lUTtwpx7tExe"
      },
      "outputs": [],
      "source": [
        "model_SVM = svm.SVC(kernel='linear')"
      ]
    },
    {
      "cell_type": "code",
      "execution_count": null,
      "metadata": {
        "colab": {
          "base_uri": "https://localhost:8080/",
          "height": 74
        },
        "id": "aRtsn0WDtExe",
        "outputId": "695dd716-3d3c-4981-f0b5-2972353cf222"
      },
      "outputs": [],
      "source": [
        "model_SVM.fit(x_train, y_train)"
      ]
    },
    {
      "cell_type": "code",
      "execution_count": null,
      "metadata": {
        "colab": {
          "base_uri": "https://localhost:8080/"
        },
        "id": "PdX4RTAqtExf",
        "outputId": "af224bd3-71c2-4de9-8b01-1a403bb27d93"
      },
      "outputs": [],
      "source": [
        "y_pred = model_SVM.predict(x_test)\n",
        "accuracy_svm = accuracy_score(y_test, y_pred)\n",
        "print(\"Accuracy for SVM: %.2f%%\" % (accuracy_svm * 100.00))"
      ]
    },
    {
      "cell_type": "code",
      "execution_count": null,
      "metadata": {
        "id": "8mIFAm2itExf"
      },
      "outputs": [],
      "source": [
        "acc = accuracy_score(y_test,y_pred)\n",
        "f1 = f1_score(y_test,y_pred,average='macro')\n",
        "prec = precision_score(y_test,y_pred,average='macro')\n",
        "rec = recall_score(y_test,y_pred,average='macro')"
      ]
    },
    {
      "cell_type": "code",
      "execution_count": null,
      "metadata": {
        "id": "fActo2_ltExf"
      },
      "outputs": [],
      "source": [
        "results_svm = pd.DataFrame(pd.DataFrame([['SVM Classifier', acc, f1, prec, rec]],\n",
        "               columns = ['Model', 'Accuracy', 'F1 Score', 'Precision', 'Recall']))"
      ]
    },
    {
      "cell_type": "code",
      "execution_count": null,
      "metadata": {
        "colab": {
          "base_uri": "https://localhost:8080/",
          "height": 81
        },
        "id": "hLRrAGkWtExg",
        "outputId": "ae611782-d17d-4b9e-abea-39584416b80b"
      },
      "outputs": [],
      "source": [
        "results_svm"
      ]
    },
    {
      "cell_type": "code",
      "execution_count": null,
      "metadata": {
        "id": "14rbbO1vuuyq"
      },
      "outputs": [],
      "source": [
        "results= pd.concat([results, results_svm], ignore_index= True)"
      ]
    },
    {
      "cell_type": "code",
      "execution_count": null,
      "metadata": {
        "colab": {
          "base_uri": "https://localhost:8080/",
          "height": 472
        },
        "id": "Rf-ELAAqS6oc",
        "outputId": "4e8c47e5-bbf9-43fd-8fb2-974f1941a66a"
      },
      "outputs": [],
      "source": [
        "# Plot the accuracy graph\n",
        "C_values = [0.001, 0.01, 0.1, 1, 10, 100]  # Values of C to plot\n",
        "train_accuracy = []\n",
        "test_accuracy = []\n",
        "\n",
        "for C in C_values:\n",
        "    model_svm = svm.SVC(C=C)\n",
        "    model_svm.fit(x_train, y_train)\n",
        "    y_train_pred = model_svm.predict(x_train)\n",
        "    y_test_pred = model_svm.predict(x_test)\n",
        "    train_accuracy.append(accuracy_score(y_train, y_train_pred))\n",
        "    test_accuracy.append(accuracy_score(y_test, y_test_pred))\n",
        "\n",
        "plt.plot(C_values, train_accuracy, label='Train Accuracy')\n",
        "plt.plot(C_values, test_accuracy, label='Test Accuracy')\n",
        "plt.xlabel('C (Regularization Parameter)')\n",
        "plt.ylabel('Accuracy')\n",
        "plt.title('SVM Classifier Accuracy during Training')\n",
        "plt.legend()\n",
        "plt.show()"
      ]
    },
    {
      "cell_type": "code",
      "execution_count": null,
      "metadata": {
        "id": "oTV3sEO-065v"
      },
      "outputs": [],
      "source": [
        "cm_svm = confusion_matrix(y_true, y_pred)"
      ]
    },
    {
      "cell_type": "code",
      "execution_count": null,
      "metadata": {},
      "outputs": [],
      "source": [
        "class_report = classification_report(y_true, y_pred)\n",
        "print(\"Classification Report:\\n\", class_report)"
      ]
    },
    {
      "cell_type": "code",
      "execution_count": null,
      "metadata": {
        "colab": {
          "base_uri": "https://localhost:8080/",
          "height": 718
        },
        "id": "9bRrY3IotExg",
        "outputId": "656943ca-fc85-40b7-96f9-9fd4d9a3ff1b"
      },
      "outputs": [],
      "source": [
        "plt.figure(figsize = (15,8))\n",
        "sns.heatmap(cm_svm, annot=True, fmt='g', cmap='gist_heat', cbar=True)\n",
        "plt.xlabel(\"Predicted\")\n",
        "plt.ylabel(\"Actual\")\n",
        "plt.title(\"Confusion Matrix for SVM\")\n",
        "plt.show()"
      ]
    },
    {
      "attachments": {},
      "cell_type": "markdown",
      "metadata": {
        "id": "T_FtFeGSwrnt"
      },
      "source": [
        "### GNB Classifier\n"
      ]
    },
    {
      "cell_type": "code",
      "execution_count": null,
      "metadata": {
        "id": "-hJri9yVwrn6"
      },
      "outputs": [],
      "source": [
        "model_GNB = GaussianNB()"
      ]
    },
    {
      "cell_type": "code",
      "execution_count": null,
      "metadata": {
        "colab": {
          "base_uri": "https://localhost:8080/",
          "height": 74
        },
        "id": "8V5IpDZEwrn6",
        "outputId": "8fc7c14f-42f1-4f87-fafe-fe96229d1006"
      },
      "outputs": [],
      "source": [
        "model_GNB.fit(x_train, y_train)"
      ]
    },
    {
      "cell_type": "code",
      "execution_count": null,
      "metadata": {
        "colab": {
          "base_uri": "https://localhost:8080/"
        },
        "id": "DJJfCvPuwrn7",
        "outputId": "acb60b88-837e-4dbc-b2e1-e3ec69a66cd1"
      },
      "outputs": [],
      "source": [
        "y_pred = model_GNB.predict(x_test)\n",
        "accuracy_gnb = accuracy_score(y_test, y_pred)\n",
        "print(\"Accuracy for GNB: %.2f%%\" % (accuracy_gnb * 100.00))"
      ]
    },
    {
      "cell_type": "code",
      "execution_count": null,
      "metadata": {
        "id": "1nYSkQ7ewrn7"
      },
      "outputs": [],
      "source": [
        "acc = accuracy_score(y_test,y_pred)\n",
        "f1 = f1_score(y_test,y_pred,average='micro')\n",
        "prec = precision_score(y_test,y_pred,average='micro')\n",
        "rec = recall_score(y_test,y_pred,average='micro')"
      ]
    },
    {
      "cell_type": "code",
      "execution_count": null,
      "metadata": {
        "id": "7IxuosaGwrn7"
      },
      "outputs": [],
      "source": [
        "results_gnb = pd.DataFrame(pd.DataFrame([['GNB Classifier', acc, f1, prec, rec]],\n",
        "               columns = ['Model', 'Accuracy', 'F1 Score', 'Precision', 'Recall']))"
      ]
    },
    {
      "cell_type": "code",
      "execution_count": null,
      "metadata": {
        "colab": {
          "base_uri": "https://localhost:8080/",
          "height": 81
        },
        "id": "2iIkdIUHwrn8",
        "outputId": "127367e1-d0b4-4120-f8b3-e192b283339d"
      },
      "outputs": [],
      "source": [
        "results_gnb"
      ]
    },
    {
      "cell_type": "code",
      "execution_count": null,
      "metadata": {
        "id": "xktGHS7vwrn8"
      },
      "outputs": [],
      "source": [
        "results= pd.concat([results, results_gnb], ignore_index= True)"
      ]
    },
    {
      "cell_type": "code",
      "execution_count": null,
      "metadata": {
        "colab": {
          "base_uri": "https://localhost:8080/",
          "height": 472
        },
        "id": "OlWpS2zKTVkH",
        "outputId": "fc43297b-6f29-4f2c-cf7a-5695c9a679ab"
      },
      "outputs": [],
      "source": [
        "# Plot the accuracy graph\n",
        "train_accuracy = []\n",
        "test_accuracy = []\n",
        "\n",
        "# Train the model with different training set sizes\n",
        "for i in range(1, 11):\n",
        "    train_size = int(len(x_train) * (i / 10))\n",
        "    x_train_subset = x_train[:train_size]\n",
        "    y_train_subset = y_train[:train_size]\n",
        "    model_GNB.fit(x_train_subset, y_train_subset)\n",
        "    y_train_pred = model_GNB.predict(x_train_subset)\n",
        "    y_test_pred = model_GNB.predict(x_test)\n",
        "    train_accuracy.append(accuracy_score(y_train_subset, y_train_pred))\n",
        "    test_accuracy.append(accuracy_score(y_test, y_test_pred))\n",
        "\n",
        "plt.plot(range(1, 11), train_accuracy, label='Train Accuracy')\n",
        "plt.plot(range(1, 11), test_accuracy, label='Test Accuracy')\n",
        "plt.xlabel('Training Set Size (Percentage)')\n",
        "plt.ylabel('Accuracy')\n",
        "plt.title('GNB Classifier Accuracy during Training')\n",
        "plt.legend()\n",
        "plt.show()"
      ]
    },
    {
      "cell_type": "code",
      "execution_count": null,
      "metadata": {
        "id": "Bqkc8ssVwrn8"
      },
      "outputs": [],
      "source": [
        "cm_gnb = confusion_matrix(y_true, y_pred)"
      ]
    },
    {
      "cell_type": "code",
      "execution_count": null,
      "metadata": {},
      "outputs": [],
      "source": [
        "class_report = classification_report(y_true, y_pred)\n",
        "print(\"Classification Report:\\n\", class_report)"
      ]
    },
    {
      "cell_type": "code",
      "execution_count": null,
      "metadata": {
        "colab": {
          "base_uri": "https://localhost:8080/",
          "height": 718
        },
        "id": "coqOFnjXwrn9",
        "outputId": "da3ca5dc-853c-4874-97d1-43f61e5c5dde"
      },
      "outputs": [],
      "source": [
        "plt.figure(figsize = (15,8))\n",
        "sns.heatmap(cm_gnb, annot=True, fmt='g', cmap='gist_heat', cbar=True)\n",
        "plt.xlabel(\"Predicted\")\n",
        "plt.ylabel(\"Actual\")\n",
        "plt.title(\"Confusion Matrix for GNB\")\n",
        "plt.show()"
      ]
    },
    {
      "attachments": {},
      "cell_type": "markdown",
      "metadata": {},
      "source": [
        "### CNN Classifier\n"
      ]
    },
    {
      "cell_type": "code",
      "execution_count": null,
      "metadata": {
        "tags": []
      },
      "outputs": [],
      "source": [
        "x_train = x_train.values.reshape(x_train.shape[0], x_train.shape[1], 1)\n",
        "x_test = x_test.values.reshape(x_test.shape[0], x_test.shape[1], 1)"
      ]
    },
    {
      "cell_type": "code",
      "execution_count": null,
      "metadata": {},
      "outputs": [],
      "source": [
        "x_train, x_test, y_train, y_test = train_test_split(x, y, test_size=0.2, random_state=42)"
      ]
    },
    {
      "cell_type": "code",
      "execution_count": null,
      "metadata": {},
      "outputs": [],
      "source": [
        "model = keras.models.Sequential([\n",
        "    keras.layers.Conv1D(filters=32, kernel_size=3, activation='relu', input_shape=(80,1)),\n",
        "    keras.layers.MaxPooling1D(pool_size=2),\n",
        "    keras.layers.Flatten(),\n",
        "    keras.layers.Dense(units=128, activation='relu'),\n",
        "    keras.layers.Dense(units=8, activation='softmax')\n",
        "])"
      ]
    },
    {
      "cell_type": "code",
      "execution_count": null,
      "metadata": {},
      "outputs": [],
      "source": [
        "model.compile(loss='categorical_crossentropy', optimizer='adam', metrics=['accuracy'])"
      ]
    },
    {
      "cell_type": "code",
      "execution_count": null,
      "metadata": {},
      "outputs": [],
      "source": [
        "history = model.fit(x_train, keras.utils.to_categorical(y_train), epochs=20, batch_size=32, \n",
        "validation_data=(x_test, keras.utils.to_categorical(y_test)))"
      ]
    },
    {
      "cell_type": "code",
      "execution_count": null,
      "metadata": {},
      "outputs": [],
      "source": [
        "test_loss, test_acc = model.evaluate(x_test, keras.utils.to_categorical(y_test))\n",
        "print('Accuracy for CNN:', test_acc)"
      ]
    },
    {
      "cell_type": "code",
      "execution_count": null,
      "metadata": {},
      "outputs": [],
      "source": [
        "y_pred = np.argmax(model.predict(x_test), axis=-1)\n",
        "y_test = np.argmax(keras.utils.to_categorical(y_test), axis=-1)"
      ]
    },
    {
      "cell_type": "code",
      "execution_count": null,
      "metadata": {},
      "outputs": [],
      "source": [
        "acc = accuracy_score(y_test,y_pred)\n",
        "f1 = f1_score(y_test,y_pred,average='macro')\n",
        "prec = precision_score(y_test,y_pred,average='macro')\n",
        "rec = recall_score(y_test,y_pred,average='macro')"
      ]
    },
    {
      "cell_type": "code",
      "execution_count": null,
      "metadata": {},
      "outputs": [],
      "source": [
        "results_cnn = pd.DataFrame(pd.DataFrame([['CNN Classifier', acc, f1, prec, rec]],\n",
        "columns = ['Model', 'Accuracy', 'F1 Score', 'Precision', 'Recall']))"
      ]
    },
    {
      "cell_type": "code",
      "execution_count": null,
      "metadata": {},
      "outputs": [],
      "source": [
        "results_cnn"
      ]
    },
    {
      "cell_type": "code",
      "execution_count": null,
      "metadata": {},
      "outputs": [],
      "source": [
        "results= pd.concat([results, results_cnn], ignore_index=True)"
      ]
    },
    {
      "cell_type": "code",
      "execution_count": null,
      "metadata": {},
      "outputs": [],
      "source": [
        "results"
      ]
    }
  ],
  "metadata": {
    "colab": {
      "collapsed_sections": [
        "1YSc4DbplGLd",
        "mU7ayDz2lGLj",
        "TJWEVkqelGLk",
        "xgrUG2oelGLl",
        "lgsemix2m_Vj",
        "c2RSR46CoCjj",
        "8qLBe7AhtExR",
        "T_FtFeGSwrnt"
      ],
      "provenance": []
    },
    "kernelspec": {
      "display_name": "Python 3",
      "language": "python",
      "name": "python3"
    },
    "language_info": {
      "codemirror_mode": {
        "name": "ipython",
        "version": 3
      },
      "file_extension": ".py",
      "mimetype": "text/x-python",
      "name": "python",
      "nbconvert_exporter": "python",
      "pygments_lexer": "ipython3",
      "version": "3.11.1"
    },
    "orig_nbformat": 4
  },
  "nbformat": 4,
  "nbformat_minor": 0
}
