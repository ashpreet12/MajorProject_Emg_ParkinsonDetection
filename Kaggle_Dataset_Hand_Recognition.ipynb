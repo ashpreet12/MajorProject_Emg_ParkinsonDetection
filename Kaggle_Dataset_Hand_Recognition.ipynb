{
  "cells": [
    {
      "attachments": {},
      "cell_type": "markdown",
      "metadata": {
        "id": "1YSc4DbplGLd"
      },
      "source": [
        "### Data Preprocessing"
      ]
    },
    {
      "cell_type": "code",
      "execution_count": 105,
      "metadata": {
        "id": "c6Fs3wmtlGLg"
      },
      "outputs": [],
      "source": [
        "import numpy as np\n",
        "import pandas as pd \n",
        "import matplotlib.pyplot as plt\n",
        "import seaborn as sns\n",
        "from sklearn.model_selection import train_test_split\n",
        "from sklearn.preprocessing import StandardScaler\n",
        "from sklearn.ensemble import RandomForestClassifier\n",
        "from sklearn import svm\n",
        "from sklearn.naive_bayes import GaussianNB\n",
        "from sklearn.neighbors import KNeighborsClassifier\n",
        "from sklearn.metrics import accuracy_score,f1_score,precision_score,recall_score,confusion_matrix,classification_report\n",
        "import tensorflow as tf\n",
        "import xgboost as xgb\n",
        "from tensorflow import keras\n",
        "from tensorflow.keras import layers"
      ]
    },
    {
      "cell_type": "code",
      "execution_count": 106,
      "metadata": {
        "colab": {
          "base_uri": "https://localhost:8080/"
        },
        "id": "FMIl5UAUlGLh",
        "outputId": "d0d53c72-c8c3-4d2c-ac24-e8caa2967c8f"
      },
      "outputs": [
        {
          "name": "stdout",
          "output_type": "stream",
          "text": [
            "(6822, 81) (223793, 8)\n"
          ]
        }
      ],
      "source": [
        "df = pd.read_csv('emg_all_features_labeled.csv')\n",
        "raw = pd.read_csv('index_finger_motion_raw.csv')\n",
        "print(df.shape, raw.shape)"
      ]
    },
    {
      "attachments": {},
      "cell_type": "markdown",
      "metadata": {
        "id": "mU7ayDz2lGLj"
      },
      "source": [
        "### Data Exploration"
      ]
    },
    {
      "cell_type": "code",
      "execution_count": 107,
      "metadata": {
        "colab": {
          "base_uri": "https://localhost:8080/",
          "height": 235
        },
        "id": "3G05SH69lGLj",
        "outputId": "ed77a7e7-d900-412b-97e3-da79cb4f2f86"
      },
      "outputs": [
        {
          "data": {
            "text/html": [
              "<div>\n",
              "<style scoped>\n",
              "    .dataframe tbody tr th:only-of-type {\n",
              "        vertical-align: middle;\n",
              "    }\n",
              "\n",
              "    .dataframe tbody tr th {\n",
              "        vertical-align: top;\n",
              "    }\n",
              "\n",
              "    .dataframe thead th {\n",
              "        text-align: right;\n",
              "    }\n",
              "</style>\n",
              "<table border=\"1\" class=\"dataframe\">\n",
              "  <thead>\n",
              "    <tr style=\"text-align: right;\">\n",
              "      <th></th>\n",
              "      <th>0.029437</th>\n",
              "      <th>0.051465</th>\n",
              "      <th>0.089432</th>\n",
              "      <th>0.016893</th>\n",
              "      <th>0.014127</th>\n",
              "      <th>0.017735</th>\n",
              "      <th>0.019645</th>\n",
              "      <th>0.014079</th>\n",
              "      <th>0.030692</th>\n",
              "      <th>0.052209</th>\n",
              "      <th>...</th>\n",
              "      <th>2.3516</th>\n",
              "      <th>2</th>\n",
              "      <th>3</th>\n",
              "      <th>6</th>\n",
              "      <th>0</th>\n",
              "      <th>0.1</th>\n",
              "      <th>1</th>\n",
              "      <th>1.1</th>\n",
              "      <th>0.2</th>\n",
              "      <th>1.2</th>\n",
              "    </tr>\n",
              "  </thead>\n",
              "  <tbody>\n",
              "    <tr>\n",
              "      <th>0</th>\n",
              "      <td>0.035060</td>\n",
              "      <td>0.025699</td>\n",
              "      <td>0.025286</td>\n",
              "      <td>0.020039</td>\n",
              "      <td>0.012505</td>\n",
              "      <td>0.016996</td>\n",
              "      <td>0.017674</td>\n",
              "      <td>0.014974</td>\n",
              "      <td>0.036073</td>\n",
              "      <td>0.027496</td>\n",
              "      <td>...</td>\n",
              "      <td>2.3906</td>\n",
              "      <td>3</td>\n",
              "      <td>2</td>\n",
              "      <td>2</td>\n",
              "      <td>2</td>\n",
              "      <td>0</td>\n",
              "      <td>0</td>\n",
              "      <td>1</td>\n",
              "      <td>1</td>\n",
              "      <td>1</td>\n",
              "    </tr>\n",
              "    <tr>\n",
              "      <th>1</th>\n",
              "      <td>0.043982</td>\n",
              "      <td>0.033187</td>\n",
              "      <td>0.071985</td>\n",
              "      <td>0.018900</td>\n",
              "      <td>0.016712</td>\n",
              "      <td>0.025793</td>\n",
              "      <td>0.025291</td>\n",
              "      <td>0.020268</td>\n",
              "      <td>0.044961</td>\n",
              "      <td>0.034351</td>\n",
              "      <td>...</td>\n",
              "      <td>2.7813</td>\n",
              "      <td>3</td>\n",
              "      <td>2</td>\n",
              "      <td>4</td>\n",
              "      <td>0</td>\n",
              "      <td>1</td>\n",
              "      <td>2</td>\n",
              "      <td>1</td>\n",
              "      <td>2</td>\n",
              "      <td>1</td>\n",
              "    </tr>\n",
              "    <tr>\n",
              "      <th>2</th>\n",
              "      <td>0.032677</td>\n",
              "      <td>0.031038</td>\n",
              "      <td>0.033345</td>\n",
              "      <td>0.020213</td>\n",
              "      <td>0.016290</td>\n",
              "      <td>0.028113</td>\n",
              "      <td>0.027834</td>\n",
              "      <td>0.019944</td>\n",
              "      <td>0.033778</td>\n",
              "      <td>0.032369</td>\n",
              "      <td>...</td>\n",
              "      <td>2.4141</td>\n",
              "      <td>2</td>\n",
              "      <td>1</td>\n",
              "      <td>1</td>\n",
              "      <td>0</td>\n",
              "      <td>0</td>\n",
              "      <td>2</td>\n",
              "      <td>2</td>\n",
              "      <td>1</td>\n",
              "      <td>1</td>\n",
              "    </tr>\n",
              "    <tr>\n",
              "      <th>3</th>\n",
              "      <td>0.032101</td>\n",
              "      <td>0.029580</td>\n",
              "      <td>0.035939</td>\n",
              "      <td>0.037279</td>\n",
              "      <td>0.014564</td>\n",
              "      <td>0.022579</td>\n",
              "      <td>0.018042</td>\n",
              "      <td>0.015792</td>\n",
              "      <td>0.033035</td>\n",
              "      <td>0.030936</td>\n",
              "      <td>...</td>\n",
              "      <td>2.3516</td>\n",
              "      <td>2</td>\n",
              "      <td>1</td>\n",
              "      <td>6</td>\n",
              "      <td>4</td>\n",
              "      <td>0</td>\n",
              "      <td>1</td>\n",
              "      <td>0</td>\n",
              "      <td>0</td>\n",
              "      <td>1</td>\n",
              "    </tr>\n",
              "    <tr>\n",
              "      <th>4</th>\n",
              "      <td>0.034332</td>\n",
              "      <td>0.029158</td>\n",
              "      <td>0.027977</td>\n",
              "      <td>0.025456</td>\n",
              "      <td>0.015080</td>\n",
              "      <td>0.023670</td>\n",
              "      <td>0.025631</td>\n",
              "      <td>0.018851</td>\n",
              "      <td>0.035562</td>\n",
              "      <td>0.030472</td>\n",
              "      <td>...</td>\n",
              "      <td>2.6641</td>\n",
              "      <td>2</td>\n",
              "      <td>2</td>\n",
              "      <td>1</td>\n",
              "      <td>2</td>\n",
              "      <td>0</td>\n",
              "      <td>2</td>\n",
              "      <td>2</td>\n",
              "      <td>2</td>\n",
              "      <td>1</td>\n",
              "    </tr>\n",
              "  </tbody>\n",
              "</table>\n",
              "<p>5 rows × 81 columns</p>\n",
              "</div>"
            ],
            "text/plain": [
              "   0.029437  0.051465  0.089432  0.016893  0.014127  0.017735  0.019645   \n",
              "0  0.035060  0.025699  0.025286  0.020039  0.012505  0.016996  0.017674  \\\n",
              "1  0.043982  0.033187  0.071985  0.018900  0.016712  0.025793  0.025291   \n",
              "2  0.032677  0.031038  0.033345  0.020213  0.016290  0.028113  0.027834   \n",
              "3  0.032101  0.029580  0.035939  0.037279  0.014564  0.022579  0.018042   \n",
              "4  0.034332  0.029158  0.027977  0.025456  0.015080  0.023670  0.025631   \n",
              "\n",
              "   0.014079  0.030692  0.052209  ...  2.3516  2  3  6  0  0.1  1  1.1  0.2   \n",
              "0  0.014974  0.036073  0.027496  ...  2.3906  3  2  2  2    0  0    1    1  \\\n",
              "1  0.020268  0.044961  0.034351  ...  2.7813  3  2  4  0    1  2    1    2   \n",
              "2  0.019944  0.033778  0.032369  ...  2.4141  2  1  1  0    0  2    2    1   \n",
              "3  0.015792  0.033035  0.030936  ...  2.3516  2  1  6  4    0  1    0    0   \n",
              "4  0.018851  0.035562  0.030472  ...  2.6641  2  2  1  2    0  2    2    2   \n",
              "\n",
              "   1.2  \n",
              "0    1  \n",
              "1    1  \n",
              "2    1  \n",
              "3    1  \n",
              "4    1  \n",
              "\n",
              "[5 rows x 81 columns]"
            ]
          },
          "execution_count": 107,
          "metadata": {},
          "output_type": "execute_result"
        }
      ],
      "source": [
        "df.head()"
      ]
    },
    {
      "cell_type": "code",
      "execution_count": 108,
      "metadata": {
        "colab": {
          "base_uri": "https://localhost:8080/",
          "height": 393
        },
        "id": "ERDAhBa4lGLk",
        "outputId": "24124522-0625-40f8-b9e6-d1e43171cda4"
      },
      "outputs": [
        {
          "data": {
            "text/html": [
              "<div>\n",
              "<style scoped>\n",
              "    .dataframe tbody tr th:only-of-type {\n",
              "        vertical-align: middle;\n",
              "    }\n",
              "\n",
              "    .dataframe tbody tr th {\n",
              "        vertical-align: top;\n",
              "    }\n",
              "\n",
              "    .dataframe thead th {\n",
              "        text-align: right;\n",
              "    }\n",
              "</style>\n",
              "<table border=\"1\" class=\"dataframe\">\n",
              "  <thead>\n",
              "    <tr style=\"text-align: right;\">\n",
              "      <th></th>\n",
              "      <th>0.029437</th>\n",
              "      <th>0.051465</th>\n",
              "      <th>0.089432</th>\n",
              "      <th>0.016893</th>\n",
              "      <th>0.014127</th>\n",
              "      <th>0.017735</th>\n",
              "      <th>0.019645</th>\n",
              "      <th>0.014079</th>\n",
              "      <th>0.030692</th>\n",
              "      <th>0.052209</th>\n",
              "      <th>...</th>\n",
              "      <th>2.3516</th>\n",
              "      <th>2</th>\n",
              "      <th>3</th>\n",
              "      <th>6</th>\n",
              "      <th>0</th>\n",
              "      <th>0.1</th>\n",
              "      <th>1</th>\n",
              "      <th>1.1</th>\n",
              "      <th>0.2</th>\n",
              "      <th>1.2</th>\n",
              "    </tr>\n",
              "  </thead>\n",
              "  <tbody>\n",
              "    <tr>\n",
              "      <th>count</th>\n",
              "      <td>6822.000000</td>\n",
              "      <td>6822.000000</td>\n",
              "      <td>6822.000000</td>\n",
              "      <td>6822.000000</td>\n",
              "      <td>6822.000000</td>\n",
              "      <td>6822.000000</td>\n",
              "      <td>6822.000000</td>\n",
              "      <td>6822.000000</td>\n",
              "      <td>6822.000000</td>\n",
              "      <td>6822.000000</td>\n",
              "      <td>...</td>\n",
              "      <td>6822.000000</td>\n",
              "      <td>6822.000000</td>\n",
              "      <td>6822.000000</td>\n",
              "      <td>6822.000000</td>\n",
              "      <td>6822.000000</td>\n",
              "      <td>6822.000000</td>\n",
              "      <td>6822.000000</td>\n",
              "      <td>6822.000000</td>\n",
              "      <td>6822.000000</td>\n",
              "      <td>6822.000000</td>\n",
              "    </tr>\n",
              "    <tr>\n",
              "      <th>mean</th>\n",
              "      <td>0.040823</td>\n",
              "      <td>0.065489</td>\n",
              "      <td>0.097874</td>\n",
              "      <td>0.036480</td>\n",
              "      <td>0.024884</td>\n",
              "      <td>0.045121</td>\n",
              "      <td>0.099462</td>\n",
              "      <td>0.054163</td>\n",
              "      <td>0.042424</td>\n",
              "      <td>0.066619</td>\n",
              "      <td>...</td>\n",
              "      <td>8.709442</td>\n",
              "      <td>2.051305</td>\n",
              "      <td>3.880094</td>\n",
              "      <td>4.994723</td>\n",
              "      <td>1.738053</td>\n",
              "      <td>0.733656</td>\n",
              "      <td>2.194811</td>\n",
              "      <td>4.317942</td>\n",
              "      <td>2.604955</td>\n",
              "      <td>3.847112</td>\n",
              "    </tr>\n",
              "    <tr>\n",
              "      <th>std</th>\n",
              "      <td>0.039008</td>\n",
              "      <td>0.055671</td>\n",
              "      <td>0.098010</td>\n",
              "      <td>0.029872</td>\n",
              "      <td>0.017541</td>\n",
              "      <td>0.044636</td>\n",
              "      <td>0.109739</td>\n",
              "      <td>0.066580</td>\n",
              "      <td>0.038112</td>\n",
              "      <td>0.054745</td>\n",
              "      <td>...</td>\n",
              "      <td>11.202169</td>\n",
              "      <td>2.727362</td>\n",
              "      <td>3.367661</td>\n",
              "      <td>3.830100</td>\n",
              "      <td>2.516240</td>\n",
              "      <td>1.432499</td>\n",
              "      <td>2.544202</td>\n",
              "      <td>4.110435</td>\n",
              "      <td>3.412000</td>\n",
              "      <td>1.962840</td>\n",
              "    </tr>\n",
              "    <tr>\n",
              "      <th>min</th>\n",
              "      <td>0.006165</td>\n",
              "      <td>0.006814</td>\n",
              "      <td>0.006432</td>\n",
              "      <td>0.006443</td>\n",
              "      <td>0.006949</td>\n",
              "      <td>0.006798</td>\n",
              "      <td>0.006615</td>\n",
              "      <td>0.006122</td>\n",
              "      <td>0.010712</td>\n",
              "      <td>0.011779</td>\n",
              "      <td>...</td>\n",
              "      <td>0.945310</td>\n",
              "      <td>0.000000</td>\n",
              "      <td>0.000000</td>\n",
              "      <td>0.000000</td>\n",
              "      <td>0.000000</td>\n",
              "      <td>0.000000</td>\n",
              "      <td>0.000000</td>\n",
              "      <td>0.000000</td>\n",
              "      <td>0.000000</td>\n",
              "      <td>1.000000</td>\n",
              "    </tr>\n",
              "    <tr>\n",
              "      <th>25%</th>\n",
              "      <td>0.015790</td>\n",
              "      <td>0.027960</td>\n",
              "      <td>0.034170</td>\n",
              "      <td>0.017518</td>\n",
              "      <td>0.013873</td>\n",
              "      <td>0.019946</td>\n",
              "      <td>0.019318</td>\n",
              "      <td>0.014736</td>\n",
              "      <td>0.018266</td>\n",
              "      <td>0.029564</td>\n",
              "      <td>...</td>\n",
              "      <td>2.421900</td>\n",
              "      <td>0.000000</td>\n",
              "      <td>1.000000</td>\n",
              "      <td>2.000000</td>\n",
              "      <td>0.000000</td>\n",
              "      <td>0.000000</td>\n",
              "      <td>0.000000</td>\n",
              "      <td>0.000000</td>\n",
              "      <td>0.000000</td>\n",
              "      <td>2.000000</td>\n",
              "    </tr>\n",
              "    <tr>\n",
              "      <th>50%</th>\n",
              "      <td>0.027571</td>\n",
              "      <td>0.050213</td>\n",
              "      <td>0.059132</td>\n",
              "      <td>0.025909</td>\n",
              "      <td>0.020272</td>\n",
              "      <td>0.031550</td>\n",
              "      <td>0.052236</td>\n",
              "      <td>0.026368</td>\n",
              "      <td>0.029022</td>\n",
              "      <td>0.051035</td>\n",
              "      <td>...</td>\n",
              "      <td>4.085900</td>\n",
              "      <td>1.000000</td>\n",
              "      <td>3.000000</td>\n",
              "      <td>5.000000</td>\n",
              "      <td>0.000000</td>\n",
              "      <td>0.000000</td>\n",
              "      <td>1.000000</td>\n",
              "      <td>3.000000</td>\n",
              "      <td>1.000000</td>\n",
              "      <td>4.000000</td>\n",
              "    </tr>\n",
              "    <tr>\n",
              "      <th>75%</th>\n",
              "      <td>0.049174</td>\n",
              "      <td>0.084064</td>\n",
              "      <td>0.122622</td>\n",
              "      <td>0.046268</td>\n",
              "      <td>0.030887</td>\n",
              "      <td>0.053941</td>\n",
              "      <td>0.139770</td>\n",
              "      <td>0.063585</td>\n",
              "      <td>0.049878</td>\n",
              "      <td>0.084332</td>\n",
              "      <td>...</td>\n",
              "      <td>9.753900</td>\n",
              "      <td>3.000000</td>\n",
              "      <td>6.000000</td>\n",
              "      <td>8.000000</td>\n",
              "      <td>3.000000</td>\n",
              "      <td>1.000000</td>\n",
              "      <td>4.000000</td>\n",
              "      <td>8.000000</td>\n",
              "      <td>4.000000</td>\n",
              "      <td>5.000000</td>\n",
              "    </tr>\n",
              "    <tr>\n",
              "      <th>max</th>\n",
              "      <td>0.309780</td>\n",
              "      <td>0.419220</td>\n",
              "      <td>0.487810</td>\n",
              "      <td>0.245450</td>\n",
              "      <td>0.221130</td>\n",
              "      <td>0.459510</td>\n",
              "      <td>0.548000</td>\n",
              "      <td>0.432420</td>\n",
              "      <td>0.308750</td>\n",
              "      <td>0.417830</td>\n",
              "      <td>...</td>\n",
              "      <td>78.719000</td>\n",
              "      <td>13.000000</td>\n",
              "      <td>14.000000</td>\n",
              "      <td>14.000000</td>\n",
              "      <td>13.000000</td>\n",
              "      <td>11.000000</td>\n",
              "      <td>14.000000</td>\n",
              "      <td>14.000000</td>\n",
              "      <td>14.000000</td>\n",
              "      <td>7.000000</td>\n",
              "    </tr>\n",
              "  </tbody>\n",
              "</table>\n",
              "<p>8 rows × 81 columns</p>\n",
              "</div>"
            ],
            "text/plain": [
              "          0.029437     0.051465     0.089432     0.016893     0.014127   \n",
              "count  6822.000000  6822.000000  6822.000000  6822.000000  6822.000000  \\\n",
              "mean      0.040823     0.065489     0.097874     0.036480     0.024884   \n",
              "std       0.039008     0.055671     0.098010     0.029872     0.017541   \n",
              "min       0.006165     0.006814     0.006432     0.006443     0.006949   \n",
              "25%       0.015790     0.027960     0.034170     0.017518     0.013873   \n",
              "50%       0.027571     0.050213     0.059132     0.025909     0.020272   \n",
              "75%       0.049174     0.084064     0.122622     0.046268     0.030887   \n",
              "max       0.309780     0.419220     0.487810     0.245450     0.221130   \n",
              "\n",
              "          0.017735     0.019645     0.014079     0.030692     0.052209  ...   \n",
              "count  6822.000000  6822.000000  6822.000000  6822.000000  6822.000000  ...  \\\n",
              "mean      0.045121     0.099462     0.054163     0.042424     0.066619  ...   \n",
              "std       0.044636     0.109739     0.066580     0.038112     0.054745  ...   \n",
              "min       0.006798     0.006615     0.006122     0.010712     0.011779  ...   \n",
              "25%       0.019946     0.019318     0.014736     0.018266     0.029564  ...   \n",
              "50%       0.031550     0.052236     0.026368     0.029022     0.051035  ...   \n",
              "75%       0.053941     0.139770     0.063585     0.049878     0.084332  ...   \n",
              "max       0.459510     0.548000     0.432420     0.308750     0.417830  ...   \n",
              "\n",
              "            2.3516            2            3            6            0   \n",
              "count  6822.000000  6822.000000  6822.000000  6822.000000  6822.000000  \\\n",
              "mean      8.709442     2.051305     3.880094     4.994723     1.738053   \n",
              "std      11.202169     2.727362     3.367661     3.830100     2.516240   \n",
              "min       0.945310     0.000000     0.000000     0.000000     0.000000   \n",
              "25%       2.421900     0.000000     1.000000     2.000000     0.000000   \n",
              "50%       4.085900     1.000000     3.000000     5.000000     0.000000   \n",
              "75%       9.753900     3.000000     6.000000     8.000000     3.000000   \n",
              "max      78.719000    13.000000    14.000000    14.000000    13.000000   \n",
              "\n",
              "               0.1            1          1.1          0.2          1.2  \n",
              "count  6822.000000  6822.000000  6822.000000  6822.000000  6822.000000  \n",
              "mean      0.733656     2.194811     4.317942     2.604955     3.847112  \n",
              "std       1.432499     2.544202     4.110435     3.412000     1.962840  \n",
              "min       0.000000     0.000000     0.000000     0.000000     1.000000  \n",
              "25%       0.000000     0.000000     0.000000     0.000000     2.000000  \n",
              "50%       0.000000     1.000000     3.000000     1.000000     4.000000  \n",
              "75%       1.000000     4.000000     8.000000     4.000000     5.000000  \n",
              "max      11.000000    14.000000    14.000000    14.000000     7.000000  \n",
              "\n",
              "[8 rows x 81 columns]"
            ]
          },
          "execution_count": 108,
          "metadata": {},
          "output_type": "execute_result"
        }
      ],
      "source": [
        "df.describe()"
      ]
    },
    {
      "cell_type": "code",
      "execution_count": 109,
      "metadata": {
        "colab": {
          "base_uri": "https://localhost:8080/"
        },
        "id": "xXXMuYgOlGLk",
        "outputId": "6a085d4b-d023-4bbc-93e3-0a25c698ab0c"
      },
      "outputs": [
        {
          "name": "stdout",
          "output_type": "stream",
          "text": [
            "<class 'pandas.core.frame.DataFrame'>\n",
            "RangeIndex: 6822 entries, 0 to 6821\n",
            "Data columns (total 81 columns):\n",
            " #   Column       Non-Null Count  Dtype  \n",
            "---  ------       --------------  -----  \n",
            " 0   0.029437     6822 non-null   float64\n",
            " 1   0.051465     6822 non-null   float64\n",
            " 2   0.089432     6822 non-null   float64\n",
            " 3   0.016893     6822 non-null   float64\n",
            " 4   0.014127     6822 non-null   float64\n",
            " 5   0.017735     6822 non-null   float64\n",
            " 6   0.019645     6822 non-null   float64\n",
            " 7   0.014079     6822 non-null   float64\n",
            " 8   0.030692     6822 non-null   float64\n",
            " 9   0.052209     6822 non-null   float64\n",
            " 10  0.08977      6822 non-null   float64\n",
            " 11  0.019609     6822 non-null   float64\n",
            " 12  0.016973     6822 non-null   float64\n",
            " 13  0.020182     6822 non-null   float64\n",
            " 14  0.021575     6822 non-null   float64\n",
            " 15  0.017081     6822 non-null   float64\n",
            " 16  -0.16406     6822 non-null   float64\n",
            " 17  -0.28906     6822 non-null   float64\n",
            " 18  -0.53906     6822 non-null   float64\n",
            " 19  -0.054688    6822 non-null   float64\n",
            " 20  -0.054688.1  6822 non-null   float64\n",
            " 21  -0.11719     6822 non-null   float64\n",
            " 22  -0.125       6822 non-null   float64\n",
            " 23  -0.054688.2  6822 non-null   float64\n",
            " 24  0.09375      6822 non-null   float64\n",
            " 25  0.16406      6822 non-null   float64\n",
            " 26  0.3125       6822 non-null   float64\n",
            " 27  0.03125      6822 non-null   float64\n",
            " 28  0.039063     6822 non-null   float64\n",
            " 29  0.046875     6822 non-null   float64\n",
            " 30  0.0625       6822 non-null   float64\n",
            " 31  0.03125.1    6822 non-null   float64\n",
            " 32  53           6822 non-null   int64  \n",
            " 33  49           6822 non-null   int64  \n",
            " 34  56           6822 non-null   int64  \n",
            " 35  39           6822 non-null   int64  \n",
            " 36  21           6822 non-null   int64  \n",
            " 37  27           6822 non-null   int64  \n",
            " 38  31           6822 non-null   int64  \n",
            " 39  23           6822 non-null   int64  \n",
            " 40  0.074323     6822 non-null   float64\n",
            " 41  0.11297      6822 non-null   float64\n",
            " 42  0.21297      6822 non-null   float64\n",
            " 43  0.050417     6822 non-null   float64\n",
            " 44  0.039271     6822 non-null   float64\n",
            " 45  0.047031     6822 non-null   float64\n",
            " 46  0.05099      6822 non-null   float64\n",
            " 47  0.036354     6822 non-null   float64\n",
            " 48  0.03125.2    6822 non-null   float64\n",
            " 49  0.054688     6822 non-null   float64\n",
            " 50  0.03125.3    6822 non-null   float64\n",
            " 51  0.039063.1   6822 non-null   float64\n",
            " 52  0.03125.4    6822 non-null   float64\n",
            " 53  0.046875.1   6822 non-null   float64\n",
            " 54  0.023438     6822 non-null   float64\n",
            " 55  0.023438.1   6822 non-null   float64\n",
            " 56  0.017896     6822 non-null   float64\n",
            " 57  0.02666      6822 non-null   float64\n",
            " 58  0.04566      6822 non-null   float64\n",
            " 59  0.013029     6822 non-null   float64\n",
            " 60  0.010639     6822 non-null   float64\n",
            " 61  0.011585     6822 non-null   float64\n",
            " 62  0.011896     6822 non-null   float64\n",
            " 63  0.010152     6822 non-null   float64\n",
            " 64  4.3672       6822 non-null   float64\n",
            " 65  6.6563       6822 non-null   float64\n",
            " 66  11.773       6822 non-null   float64\n",
            " 67  2.9219       6822 non-null   float64\n",
            " 68  2.3594       6822 non-null   float64\n",
            " 69  2.6797       6822 non-null   float64\n",
            " 70  2.8047       6822 non-null   float64\n",
            " 71  2.3516       6822 non-null   float64\n",
            " 72  2            6822 non-null   int64  \n",
            " 73  3            6822 non-null   int64  \n",
            " 74  6            6822 non-null   int64  \n",
            " 75  0            6822 non-null   int64  \n",
            " 76  0.1          6822 non-null   int64  \n",
            " 77  1            6822 non-null   int64  \n",
            " 78  1.1          6822 non-null   int64  \n",
            " 79  0.2          6822 non-null   int64  \n",
            " 80  1.2          6822 non-null   int64  \n",
            "dtypes: float64(64), int64(17)\n",
            "memory usage: 4.2 MB\n"
          ]
        }
      ],
      "source": [
        "df.info()"
      ]
    },
    {
      "cell_type": "code",
      "execution_count": 110,
      "metadata": {
        "colab": {
          "base_uri": "https://localhost:8080/",
          "height": 427
        },
        "id": "GJw_Di9BlGLk",
        "outputId": "66a160d4-5c4e-4f0a-d470-9f057533fde8"
      },
      "outputs": [
        {
          "data": {
            "image/png": "[encoded data removed]",
            "text/plain": [
              "<Figure size 3000x800 with 8 Axes>"
            ]
          },
          "metadata": {},
          "output_type": "display_data"
        }
      ],
      "source": [
        "def plot_data(data):    \n",
        "    fig, axes = plt.subplots(2,4, figsize=(30, 8), sharex=True, sharey=True)\n",
        "    for i in range(2):\n",
        "        for j in range(4):\n",
        "            axes[i][j].plot(data.iloc[:,i*j])\n",
        "            axes[i][j].set_title('Electrode ' + str(i*4 + j + 1))\n",
        "            axes[i][j].set_xlabel('Voltage')\n",
        "            axes[i][j].set_ylabel('EMG data points')\n",
        "\n",
        "        \n",
        "plot_data(raw)\n"
      ]
    },
    {
      "attachments": {},
      "cell_type": "markdown",
      "metadata": {
        "id": "hjYwBDu6UMGs"
      },
      "source": [
        "### Inferences from the Graph\n",
        "1. Sharp spikes or points in an EMG plot can indicate the activation of a muscle or group of muscles. When a muscle contracts, it generates an electrical signal that is recorded by the EMG electrodes. This signal appears as a sharp spike or point in the EMG plot.\n",
        "2. The size and shape of the spike can provide information about the strength and duration of the muscle contraction. A larger and longer spike typically indicates a stronger and more sustained muscle contraction.\n",
        "3. Sharp spikes or points in an EMG plot can also be caused by noise or interference in the recording system, or by movement artifacts.\n"
      ]
    },
    {
      "attachments": {},
      "cell_type": "markdown",
      "metadata": {
        "id": "TJWEVkqelGLk"
      },
      "source": [
        "### Splitting the dataset into train and test set"
      ]
    },
    {
      "cell_type": "code",
      "execution_count": 111,
      "metadata": {
        "colab": {
          "base_uri": "https://localhost:8080/"
        },
        "id": "zQtaO6utlGLl",
        "outputId": "4084faca-6166-4447-ad89-e221268c086e"
      },
      "outputs": [
        {
          "name": "stdout",
          "output_type": "stream",
          "text": [
            "(6822, 80)\n",
            "(6822,)\n"
          ]
        }
      ],
      "source": [
        "x = df.iloc[:,:80].copy()\n",
        "y = df.iloc[:,80].copy()\n",
        "print(x.shape)\n",
        "print(y.shape)\n",
        "x_train, x_test, y_train, y_test = train_test_split(x, y, test_size=0.25, random_state=1)"
      ]
    },
    {
      "cell_type": "code",
      "execution_count": 112,
      "metadata": {
        "colab": {
          "base_uri": "https://localhost:8080/"
        },
        "id": "1mMseE9-1l4K",
        "outputId": "45c56249-a526-4e95-b18e-de54552c154d"
      },
      "outputs": [
        {
          "data": {
            "text/plain": [
              "1.2\n",
              "4    1084\n",
              "3    1045\n",
              "1    1039\n",
              "2    1017\n",
              "5    1016\n",
              "7     895\n",
              "6     726\n",
              "Name: count, dtype: int64"
            ]
          },
          "execution_count": 112,
          "metadata": {},
          "output_type": "execute_result"
        }
      ],
      "source": [
        "y.value_counts()"
      ]
    },
    {
      "attachments": {},
      "cell_type": "markdown",
      "metadata": {
        "id": "xgrUG2oelGLl"
      },
      "source": [
        "### Feature Scaling"
      ]
    },
    {
      "cell_type": "code",
      "execution_count": 113,
      "metadata": {
        "id": "8prgc5LDlGLl"
      },
      "outputs": [],
      "source": [
        "SC = StandardScaler()\n",
        "x_train = pd.DataFrame(SC.fit_transform(x_train))\n",
        "x_test = pd.DataFrame(SC.transform(x_test))"
      ]
    },
    {
      "cell_type": "code",
      "execution_count": 114,
      "metadata": {
        "id": "6droYzgblGLm"
      },
      "outputs": [],
      "source": [
        "from sklearn.preprocessing import LabelEncoder\n",
        "le = LabelEncoder()\n",
        "y_train = le.fit_transform(y_train)\n",
        "y_test = le.fit_transform(y_test)"
      ]
    },
    {
      "cell_type": "code",
      "execution_count": 115,
      "metadata": {
        "id": "-Kc0abKSJ6nD"
      },
      "outputs": [],
      "source": [
        "evalset = [(x_train, y_train), (x_test,y_test)]"
      ]
    },
    {
      "attachments": {},
      "cell_type": "markdown",
      "metadata": {
        "id": "lgsemix2m_Vj"
      },
      "source": [
        "### Random Forest\n"
      ]
    },
    {
      "cell_type": "code",
      "execution_count": 116,
      "metadata": {
        "id": "oMKewJSdnT5e"
      },
      "outputs": [],
      "source": [
        "model_RF = RandomForestClassifier(n_estimators = 100, random_state=1)"
      ]
    },
    {
      "cell_type": "code",
      "execution_count": 117,
      "metadata": {
        "colab": {
          "base_uri": "https://localhost:8080/",
          "height": 74
        },
        "id": "5FRRnmCUnXOK",
        "outputId": "84dd6ab3-573c-49c8-fd1e-00918ac7e436"
      },
      "outputs": [
        {
          "data": {
            "text/html": [
              "<style>#sk-container-id-6 {color: black;background-color: white;}#sk-container-id-6 pre{padding: 0;}#sk-container-id-6 div.sk-toggleable {background-color: white;}#sk-container-id-6 label.sk-toggleable__label {cursor: pointer;display: block;width: 100%;margin-bottom: 0;padding: 0.3em;box-sizing: border-box;text-align: center;}#sk-container-id-6 label.sk-toggleable__label-arrow:before {content: \"▸\";float: left;margin-right: 0.25em;color: #696969;}#sk-container-id-6 label.sk-toggleable__label-arrow:hover:before {color: black;}#sk-container-id-6 div.sk-estimator:hover label.sk-toggleable__label-arrow:before {color: black;}#sk-container-id-6 div.sk-toggleable__content {max-height: 0;max-width: 0;overflow: hidden;text-align: left;background-color: #f0f8ff;}#sk-container-id-6 div.sk-toggleable__content pre {margin: 0.2em;color: black;border-radius: 0.25em;background-color: #f0f8ff;}#sk-container-id-6 input.sk-toggleable__control:checked~div.sk-toggleable__content {max-height: 200px;max-width: 100%;overflow: auto;}#sk-container-id-6 input.sk-toggleable__control:checked~label.sk-toggleable__label-arrow:before {content: \"▾\";}#sk-container-id-6 div.sk-estimator input.sk-toggleable__control:checked~label.sk-toggleable__label {background-color: #d4ebff;}#sk-container-id-6 div.sk-label input.sk-toggleable__control:checked~label.sk-toggleable__label {background-color: #d4ebff;}#sk-container-id-6 input.sk-hidden--visually {border: 0;clip: rect(1px 1px 1px 1px);clip: rect(1px, 1px, 1px, 1px);height: 1px;margin: -1px;overflow: hidden;padding: 0;position: absolute;width: 1px;}#sk-container-id-6 div.sk-estimator {font-family: monospace;background-color: #f0f8ff;border: 1px dotted black;border-radius: 0.25em;box-sizing: border-box;margin-bottom: 0.5em;}#sk-container-id-6 div.sk-estimator:hover {background-color: #d4ebff;}#sk-container-id-6 div.sk-parallel-item::after {content: \"\";width: 100%;border-bottom: 1px solid gray;flex-grow: 1;}#sk-container-id-6 div.sk-label:hover label.sk-toggleable__label {background-color: #d4ebff;}#sk-container-id-6 div.sk-serial::before {content: \"\";position: absolute;border-left: 1px solid gray;box-sizing: border-box;top: 0;bottom: 0;left: 50%;z-index: 0;}#sk-container-id-6 div.sk-serial {display: flex;flex-direction: column;align-items: center;background-color: white;padding-right: 0.2em;padding-left: 0.2em;position: relative;}#sk-container-id-6 div.sk-item {position: relative;z-index: 1;}#sk-container-id-6 div.sk-parallel {display: flex;align-items: stretch;justify-content: center;background-color: white;position: relative;}#sk-container-id-6 div.sk-item::before, #sk-container-id-6 div.sk-parallel-item::before {content: \"\";position: absolute;border-left: 1px solid gray;box-sizing: border-box;top: 0;bottom: 0;left: 50%;z-index: -1;}#sk-container-id-6 div.sk-parallel-item {display: flex;flex-direction: column;z-index: 1;position: relative;background-color: white;}#sk-container-id-6 div.sk-parallel-item:first-child::after {align-self: flex-end;width: 50%;}#sk-container-id-6 div.sk-parallel-item:last-child::after {align-self: flex-start;width: 50%;}#sk-container-id-6 div.sk-parallel-item:only-child::after {width: 0;}#sk-container-id-6 div.sk-dashed-wrapped {border: 1px dashed gray;margin: 0 0.4em 0.5em 0.4em;box-sizing: border-box;padding-bottom: 0.4em;background-color: white;}#sk-container-id-6 div.sk-label label {font-family: monospace;font-weight: bold;display: inline-block;line-height: 1.2em;}#sk-container-id-6 div.sk-label-container {text-align: center;}#sk-container-id-6 div.sk-container {/* jupyter's `normalize.less` sets `[hidden] { display: none; }` but bootstrap.min.css set `[hidden] { display: none !important; }` so we also need the `!important` here to be able to override the default hidden behavior on the sphinx rendered scikit-learn.org. See: https://github.com/scikit-learn/scikit-learn/issues/21755 */display: inline-block !important;position: relative;}#sk-container-id-6 div.sk-text-repr-fallback {display: none;}</style><div id=\"sk-container-id-6\" class=\"sk-top-container\"><div class=\"sk-text-repr-fallback\"><pre>RandomForestClassifier(random_state=1)</pre><b>In a Jupyter environment, please rerun this cell to show the HTML representation or trust the notebook. <br />On GitHub, the HTML representation is unable to render, please try loading this page with nbviewer.org.</b></div><div class=\"sk-container\" hidden><div class=\"sk-item\"><div class=\"sk-estimator sk-toggleable\"><input class=\"sk-toggleable__control sk-hidden--visually\" id=\"sk-estimator-id-6\" type=\"checkbox\" checked><label for=\"sk-estimator-id-6\" class=\"sk-toggleable__label sk-toggleable__label-arrow\">RandomForestClassifier</label><div class=\"sk-toggleable__content\"><pre>RandomForestClassifier(random_state=1)</pre></div></div></div></div></div>"
            ],
            "text/plain": [
              "RandomForestClassifier(random_state=1)"
            ]
          },
          "execution_count": 117,
          "metadata": {},
          "output_type": "execute_result"
        }
      ],
      "source": [
        "model_RF.fit(x_train, y_train)"
      ]
    },
    {
      "cell_type": "code",
      "execution_count": 118,
      "metadata": {
        "colab": {
          "base_uri": "https://localhost:8080/"
        },
        "id": "OLCDPMdJnfL0",
        "outputId": "62ce92f1-9cb1-4d60-f118-1a9cac6864fa"
      },
      "outputs": [
        {
          "name": "stdout",
          "output_type": "stream",
          "text": [
            "Accuracy for RF: 94.37%\n"
          ]
        }
      ],
      "source": [
        "y_pred = model_RF.predict(x_test)\n",
        "accuracy_rf = accuracy_score(y_test, y_pred)\n",
        "print(\"Accuracy for RF: %.2f%%\" % (accuracy_rf * 100.00))"
      ]
    },
    {
      "cell_type": "code",
      "execution_count": 119,
      "metadata": {
        "id": "CZ4C8lu1pT_T"
      },
      "outputs": [],
      "source": [
        "acc = accuracy_score(y_test,y_pred)\n",
        "f1 = f1_score(y_test,y_pred,average='macro')\n",
        "prec = precision_score(y_test,y_pred,average='macro')\n",
        "rec = recall_score(y_test,y_pred,average='macro')"
      ]
    },
    {
      "cell_type": "code",
      "execution_count": 120,
      "metadata": {
        "id": "8tOeyJjwr5xv"
      },
      "outputs": [],
      "source": [
        "results = pd.DataFrame(pd.DataFrame([['Random Forest', acc, f1, prec, rec]],\n",
        "               columns = ['Model', 'Accuracy', 'F1 Score', 'Precision', 'Recall']))"
      ]
    },
    {
      "cell_type": "code",
      "execution_count": 121,
      "metadata": {
        "colab": {
          "base_uri": "https://localhost:8080/",
          "height": 81
        },
        "id": "Ifwenc4er_kC",
        "outputId": "93a3abee-5a7b-4909-a8d2-1456fbd79833"
      },
      "outputs": [
        {
          "data": {
            "text/html": [
              "<div>\n",
              "<style scoped>\n",
              "    .dataframe tbody tr th:only-of-type {\n",
              "        vertical-align: middle;\n",
              "    }\n",
              "\n",
              "    .dataframe tbody tr th {\n",
              "        vertical-align: top;\n",
              "    }\n",
              "\n",
              "    .dataframe thead th {\n",
              "        text-align: right;\n",
              "    }\n",
              "</style>\n",
              "<table border=\"1\" class=\"dataframe\">\n",
              "  <thead>\n",
              "    <tr style=\"text-align: right;\">\n",
              "      <th></th>\n",
              "      <th>Model</th>\n",
              "      <th>Accuracy</th>\n",
              "      <th>F1 Score</th>\n",
              "      <th>Precision</th>\n",
              "      <th>Recall</th>\n",
              "    </tr>\n",
              "  </thead>\n",
              "  <tbody>\n",
              "    <tr>\n",
              "      <th>0</th>\n",
              "      <td>Random Forest</td>\n",
              "      <td>0.943728</td>\n",
              "      <td>0.945472</td>\n",
              "      <td>0.946253</td>\n",
              "      <td>0.945656</td>\n",
              "    </tr>\n",
              "  </tbody>\n",
              "</table>\n",
              "</div>"
            ],
            "text/plain": [
              "           Model  Accuracy  F1 Score  Precision    Recall\n",
              "0  Random Forest  0.943728  0.945472   0.946253  0.945656"
            ]
          },
          "execution_count": 121,
          "metadata": {},
          "output_type": "execute_result"
        }
      ],
      "source": [
        "results"
      ]
    },
    {
      "cell_type": "code",
      "execution_count": 122,
      "metadata": {
        "id": "cU7_9elw1-d2"
      },
      "outputs": [],
      "source": [
        "y_true = np.array(y_test)"
      ]
    },
    {
      "cell_type": "code",
      "execution_count": 123,
      "metadata": {
        "id": "94LWXlbFn8XX"
      },
      "outputs": [],
      "source": [
        "cm_rf = confusion_matrix(y_true, y_pred)"
      ]
    },
    {
      "cell_type": "code",
      "execution_count": 124,
      "metadata": {},
      "outputs": [
        {
          "name": "stdout",
          "output_type": "stream",
          "text": [
            "Classification Report:\n",
            "               precision    recall  f1-score   support\n",
            "\n",
            "           0       0.88      0.95      0.91       243\n",
            "           1       0.93      0.91      0.92       233\n",
            "           2       0.97      0.95      0.96       265\n",
            "           3       0.91      0.95      0.93       280\n",
            "           4       0.97      0.89      0.93       266\n",
            "           5       0.98      1.00      0.99       197\n",
            "           6       0.97      0.96      0.97       222\n",
            "\n",
            "    accuracy                           0.94      1706\n",
            "   macro avg       0.95      0.95      0.95      1706\n",
            "weighted avg       0.94      0.94      0.94      1706\n",
            "\n"
          ]
        }
      ],
      "source": [
        "class_report = classification_report(y_true, y_pred)\n",
        "print(\"Classification Report:\\n\", class_report)"
      ]
    },
    {
      "cell_type": "code",
      "execution_count": 125,
      "metadata": {
        "colab": {
          "base_uri": "https://localhost:8080/",
          "height": 472
        },
        "id": "_4zp-XVh3HP4",
        "outputId": "e9f2f76f-d978-4f92-b710-85ddc193cd5b"
      },
      "outputs": [
        {
          "ename": "KeyboardInterrupt",
          "evalue": "",
          "output_type": "error",
          "traceback": [
            "\u001b[1;31m---------------------------------------------------------------------------\u001b[0m",
            "\u001b[1;31mKeyboardInterrupt\u001b[0m                         Traceback (most recent call last)",
            "Cell \u001b[1;32mIn[125], line 8\u001b[0m\n\u001b[0;32m      6\u001b[0m \u001b[39mfor\u001b[39;00m n \u001b[39min\u001b[39;00m n_estimators:\n\u001b[0;32m      7\u001b[0m     model_rf \u001b[39m=\u001b[39m RandomForestClassifier(n_estimators\u001b[39m=\u001b[39mn)\n\u001b[1;32m----> 8\u001b[0m     model_rf\u001b[39m.\u001b[39;49mfit(x_train, y_train)\n\u001b[0;32m      9\u001b[0m     y_train_pred \u001b[39m=\u001b[39m model_rf\u001b[39m.\u001b[39mpredict(x_train)\n\u001b[0;32m     10\u001b[0m     y_test_pred \u001b[39m=\u001b[39m model_rf\u001b[39m.\u001b[39mpredict(x_test)\n",
            "File \u001b[1;32mc:\\Users\\Admin\\AppData\\Local\\Programs\\Python\\Python311\\Lib\\site-packages\\sklearn\\ensemble\\_forest.py:473\u001b[0m, in \u001b[0;36mBaseForest.fit\u001b[1;34m(self, X, y, sample_weight)\u001b[0m\n\u001b[0;32m    462\u001b[0m trees \u001b[39m=\u001b[39m [\n\u001b[0;32m    463\u001b[0m     \u001b[39mself\u001b[39m\u001b[39m.\u001b[39m_make_estimator(append\u001b[39m=\u001b[39m\u001b[39mFalse\u001b[39;00m, random_state\u001b[39m=\u001b[39mrandom_state)\n\u001b[0;32m    464\u001b[0m     \u001b[39mfor\u001b[39;00m i \u001b[39min\u001b[39;00m \u001b[39mrange\u001b[39m(n_more_estimators)\n\u001b[0;32m    465\u001b[0m ]\n\u001b[0;32m    467\u001b[0m \u001b[39m# Parallel loop: we prefer the threading backend as the Cython code\u001b[39;00m\n\u001b[0;32m    468\u001b[0m \u001b[39m# for fitting the trees is internally releasing the Python GIL\u001b[39;00m\n\u001b[0;32m    469\u001b[0m \u001b[39m# making threading more efficient than multiprocessing in\u001b[39;00m\n\u001b[0;32m    470\u001b[0m \u001b[39m# that case. However, for joblib 0.12+ we respect any\u001b[39;00m\n\u001b[0;32m    471\u001b[0m \u001b[39m# parallel_backend contexts set at a higher level,\u001b[39;00m\n\u001b[0;32m    472\u001b[0m \u001b[39m# since correctness does not rely on using threads.\u001b[39;00m\n\u001b[1;32m--> 473\u001b[0m trees \u001b[39m=\u001b[39m Parallel(\n\u001b[0;32m    474\u001b[0m     n_jobs\u001b[39m=\u001b[39;49m\u001b[39mself\u001b[39;49m\u001b[39m.\u001b[39;49mn_jobs,\n\u001b[0;32m    475\u001b[0m     verbose\u001b[39m=\u001b[39;49m\u001b[39mself\u001b[39;49m\u001b[39m.\u001b[39;49mverbose,\n\u001b[0;32m    476\u001b[0m     prefer\u001b[39m=\u001b[39;49m\u001b[39m\"\u001b[39;49m\u001b[39mthreads\u001b[39;49m\u001b[39m\"\u001b[39;49m,\n\u001b[0;32m    477\u001b[0m )(\n\u001b[0;32m    478\u001b[0m     delayed(_parallel_build_trees)(\n\u001b[0;32m    479\u001b[0m         t,\n\u001b[0;32m    480\u001b[0m         \u001b[39mself\u001b[39;49m\u001b[39m.\u001b[39;49mbootstrap,\n\u001b[0;32m    481\u001b[0m         X,\n\u001b[0;32m    482\u001b[0m         y,\n\u001b[0;32m    483\u001b[0m         sample_weight,\n\u001b[0;32m    484\u001b[0m         i,\n\u001b[0;32m    485\u001b[0m         \u001b[39mlen\u001b[39;49m(trees),\n\u001b[0;32m    486\u001b[0m         verbose\u001b[39m=\u001b[39;49m\u001b[39mself\u001b[39;49m\u001b[39m.\u001b[39;49mverbose,\n\u001b[0;32m    487\u001b[0m         class_weight\u001b[39m=\u001b[39;49m\u001b[39mself\u001b[39;49m\u001b[39m.\u001b[39;49mclass_weight,\n\u001b[0;32m    488\u001b[0m         n_samples_bootstrap\u001b[39m=\u001b[39;49mn_samples_bootstrap,\n\u001b[0;32m    489\u001b[0m     )\n\u001b[0;32m    490\u001b[0m     \u001b[39mfor\u001b[39;49;00m i, t \u001b[39min\u001b[39;49;00m \u001b[39menumerate\u001b[39;49m(trees)\n\u001b[0;32m    491\u001b[0m )\n\u001b[0;32m    493\u001b[0m \u001b[39m# Collect newly grown trees\u001b[39;00m\n\u001b[0;32m    494\u001b[0m \u001b[39mself\u001b[39m\u001b[39m.\u001b[39mestimators_\u001b[39m.\u001b[39mextend(trees)\n",
            "File \u001b[1;32mc:\\Users\\Admin\\AppData\\Local\\Programs\\Python\\Python311\\Lib\\site-packages\\sklearn\\utils\\parallel.py:63\u001b[0m, in \u001b[0;36mParallel.__call__\u001b[1;34m(self, iterable)\u001b[0m\n\u001b[0;32m     58\u001b[0m config \u001b[39m=\u001b[39m get_config()\n\u001b[0;32m     59\u001b[0m iterable_with_config \u001b[39m=\u001b[39m (\n\u001b[0;32m     60\u001b[0m     (_with_config(delayed_func, config), args, kwargs)\n\u001b[0;32m     61\u001b[0m     \u001b[39mfor\u001b[39;00m delayed_func, args, kwargs \u001b[39min\u001b[39;00m iterable\n\u001b[0;32m     62\u001b[0m )\n\u001b[1;32m---> 63\u001b[0m \u001b[39mreturn\u001b[39;00m \u001b[39msuper\u001b[39;49m()\u001b[39m.\u001b[39;49m\u001b[39m__call__\u001b[39;49m(iterable_with_config)\n",
            "File \u001b[1;32mc:\\Users\\Admin\\AppData\\Local\\Programs\\Python\\Python311\\Lib\\site-packages\\joblib\\parallel.py:1088\u001b[0m, in \u001b[0;36mParallel.__call__\u001b[1;34m(self, iterable)\u001b[0m\n\u001b[0;32m   1085\u001b[0m \u001b[39mif\u001b[39;00m \u001b[39mself\u001b[39m\u001b[39m.\u001b[39mdispatch_one_batch(iterator):\n\u001b[0;32m   1086\u001b[0m     \u001b[39mself\u001b[39m\u001b[39m.\u001b[39m_iterating \u001b[39m=\u001b[39m \u001b[39mself\u001b[39m\u001b[39m.\u001b[39m_original_iterator \u001b[39mis\u001b[39;00m \u001b[39mnot\u001b[39;00m \u001b[39mNone\u001b[39;00m\n\u001b[1;32m-> 1088\u001b[0m \u001b[39mwhile\u001b[39;00m \u001b[39mself\u001b[39;49m\u001b[39m.\u001b[39;49mdispatch_one_batch(iterator):\n\u001b[0;32m   1089\u001b[0m     \u001b[39mpass\u001b[39;00m\n\u001b[0;32m   1091\u001b[0m \u001b[39mif\u001b[39;00m pre_dispatch \u001b[39m==\u001b[39m \u001b[39m\"\u001b[39m\u001b[39mall\u001b[39m\u001b[39m\"\u001b[39m \u001b[39mor\u001b[39;00m n_jobs \u001b[39m==\u001b[39m \u001b[39m1\u001b[39m:\n\u001b[0;32m   1092\u001b[0m     \u001b[39m# The iterable was consumed all at once by the above for loop.\u001b[39;00m\n\u001b[0;32m   1093\u001b[0m     \u001b[39m# No need to wait for async callbacks to trigger to\u001b[39;00m\n\u001b[0;32m   1094\u001b[0m     \u001b[39m# consumption.\u001b[39;00m\n",
            "File \u001b[1;32mc:\\Users\\Admin\\AppData\\Local\\Programs\\Python\\Python311\\Lib\\site-packages\\joblib\\parallel.py:901\u001b[0m, in \u001b[0;36mParallel.dispatch_one_batch\u001b[1;34m(self, iterator)\u001b[0m\n\u001b[0;32m    899\u001b[0m     \u001b[39mreturn\u001b[39;00m \u001b[39mFalse\u001b[39;00m\n\u001b[0;32m    900\u001b[0m \u001b[39melse\u001b[39;00m:\n\u001b[1;32m--> 901\u001b[0m     \u001b[39mself\u001b[39;49m\u001b[39m.\u001b[39;49m_dispatch(tasks)\n\u001b[0;32m    902\u001b[0m     \u001b[39mreturn\u001b[39;00m \u001b[39mTrue\u001b[39;00m\n",
            "File \u001b[1;32mc:\\Users\\Admin\\AppData\\Local\\Programs\\Python\\Python311\\Lib\\site-packages\\joblib\\parallel.py:819\u001b[0m, in \u001b[0;36mParallel._dispatch\u001b[1;34m(self, batch)\u001b[0m\n\u001b[0;32m    817\u001b[0m \u001b[39mwith\u001b[39;00m \u001b[39mself\u001b[39m\u001b[39m.\u001b[39m_lock:\n\u001b[0;32m    818\u001b[0m     job_idx \u001b[39m=\u001b[39m \u001b[39mlen\u001b[39m(\u001b[39mself\u001b[39m\u001b[39m.\u001b[39m_jobs)\n\u001b[1;32m--> 819\u001b[0m     job \u001b[39m=\u001b[39m \u001b[39mself\u001b[39;49m\u001b[39m.\u001b[39;49m_backend\u001b[39m.\u001b[39;49mapply_async(batch, callback\u001b[39m=\u001b[39;49mcb)\n\u001b[0;32m    820\u001b[0m     \u001b[39m# A job can complete so quickly than its callback is\u001b[39;00m\n\u001b[0;32m    821\u001b[0m     \u001b[39m# called before we get here, causing self._jobs to\u001b[39;00m\n\u001b[0;32m    822\u001b[0m     \u001b[39m# grow. To ensure correct results ordering, .insert is\u001b[39;00m\n\u001b[0;32m    823\u001b[0m     \u001b[39m# used (rather than .append) in the following line\u001b[39;00m\n\u001b[0;32m    824\u001b[0m     \u001b[39mself\u001b[39m\u001b[39m.\u001b[39m_jobs\u001b[39m.\u001b[39minsert(job_idx, job)\n",
            "File \u001b[1;32mc:\\Users\\Admin\\AppData\\Local\\Programs\\Python\\Python311\\Lib\\site-packages\\joblib\\_parallel_backends.py:208\u001b[0m, in \u001b[0;36mSequentialBackend.apply_async\u001b[1;34m(self, func, callback)\u001b[0m\n\u001b[0;32m    206\u001b[0m \u001b[39mdef\u001b[39;00m \u001b[39mapply_async\u001b[39m(\u001b[39mself\u001b[39m, func, callback\u001b[39m=\u001b[39m\u001b[39mNone\u001b[39;00m):\n\u001b[0;32m    207\u001b[0m \u001b[39m    \u001b[39m\u001b[39m\"\"\"Schedule a func to be run\"\"\"\u001b[39;00m\n\u001b[1;32m--> 208\u001b[0m     result \u001b[39m=\u001b[39m ImmediateResult(func)\n\u001b[0;32m    209\u001b[0m     \u001b[39mif\u001b[39;00m callback:\n\u001b[0;32m    210\u001b[0m         callback(result)\n",
            "File \u001b[1;32mc:\\Users\\Admin\\AppData\\Local\\Programs\\Python\\Python311\\Lib\\site-packages\\joblib\\_parallel_backends.py:597\u001b[0m, in \u001b[0;36mImmediateResult.__init__\u001b[1;34m(self, batch)\u001b[0m\n\u001b[0;32m    594\u001b[0m \u001b[39mdef\u001b[39;00m \u001b[39m__init__\u001b[39m(\u001b[39mself\u001b[39m, batch):\n\u001b[0;32m    595\u001b[0m     \u001b[39m# Don't delay the application, to avoid keeping the input\u001b[39;00m\n\u001b[0;32m    596\u001b[0m     \u001b[39m# arguments in memory\u001b[39;00m\n\u001b[1;32m--> 597\u001b[0m     \u001b[39mself\u001b[39m\u001b[39m.\u001b[39mresults \u001b[39m=\u001b[39m batch()\n",
            "File \u001b[1;32mc:\\Users\\Admin\\AppData\\Local\\Programs\\Python\\Python311\\Lib\\site-packages\\joblib\\parallel.py:288\u001b[0m, in \u001b[0;36mBatchedCalls.__call__\u001b[1;34m(self)\u001b[0m\n\u001b[0;32m    284\u001b[0m \u001b[39mdef\u001b[39;00m \u001b[39m__call__\u001b[39m(\u001b[39mself\u001b[39m):\n\u001b[0;32m    285\u001b[0m     \u001b[39m# Set the default nested backend to self._backend but do not set the\u001b[39;00m\n\u001b[0;32m    286\u001b[0m     \u001b[39m# change the default number of processes to -1\u001b[39;00m\n\u001b[0;32m    287\u001b[0m     \u001b[39mwith\u001b[39;00m parallel_backend(\u001b[39mself\u001b[39m\u001b[39m.\u001b[39m_backend, n_jobs\u001b[39m=\u001b[39m\u001b[39mself\u001b[39m\u001b[39m.\u001b[39m_n_jobs):\n\u001b[1;32m--> 288\u001b[0m         \u001b[39mreturn\u001b[39;00m [func(\u001b[39m*\u001b[39;49margs, \u001b[39m*\u001b[39;49m\u001b[39m*\u001b[39;49mkwargs)\n\u001b[0;32m    289\u001b[0m                 \u001b[39mfor\u001b[39;49;00m func, args, kwargs \u001b[39min\u001b[39;49;00m \u001b[39mself\u001b[39;49m\u001b[39m.\u001b[39;49mitems]\n",
            "File \u001b[1;32mc:\\Users\\Admin\\AppData\\Local\\Programs\\Python\\Python311\\Lib\\site-packages\\joblib\\parallel.py:288\u001b[0m, in \u001b[0;36m<listcomp>\u001b[1;34m(.0)\u001b[0m\n\u001b[0;32m    284\u001b[0m \u001b[39mdef\u001b[39;00m \u001b[39m__call__\u001b[39m(\u001b[39mself\u001b[39m):\n\u001b[0;32m    285\u001b[0m     \u001b[39m# Set the default nested backend to self._backend but do not set the\u001b[39;00m\n\u001b[0;32m    286\u001b[0m     \u001b[39m# change the default number of processes to -1\u001b[39;00m\n\u001b[0;32m    287\u001b[0m     \u001b[39mwith\u001b[39;00m parallel_backend(\u001b[39mself\u001b[39m\u001b[39m.\u001b[39m_backend, n_jobs\u001b[39m=\u001b[39m\u001b[39mself\u001b[39m\u001b[39m.\u001b[39m_n_jobs):\n\u001b[1;32m--> 288\u001b[0m         \u001b[39mreturn\u001b[39;00m [func(\u001b[39m*\u001b[39;49margs, \u001b[39m*\u001b[39;49m\u001b[39m*\u001b[39;49mkwargs)\n\u001b[0;32m    289\u001b[0m                 \u001b[39mfor\u001b[39;00m func, args, kwargs \u001b[39min\u001b[39;00m \u001b[39mself\u001b[39m\u001b[39m.\u001b[39mitems]\n",
            "File \u001b[1;32mc:\\Users\\Admin\\AppData\\Local\\Programs\\Python\\Python311\\Lib\\site-packages\\sklearn\\utils\\parallel.py:123\u001b[0m, in \u001b[0;36m_FuncWrapper.__call__\u001b[1;34m(self, *args, **kwargs)\u001b[0m\n\u001b[0;32m    121\u001b[0m     config \u001b[39m=\u001b[39m {}\n\u001b[0;32m    122\u001b[0m \u001b[39mwith\u001b[39;00m config_context(\u001b[39m*\u001b[39m\u001b[39m*\u001b[39mconfig):\n\u001b[1;32m--> 123\u001b[0m     \u001b[39mreturn\u001b[39;00m \u001b[39mself\u001b[39;49m\u001b[39m.\u001b[39;49mfunction(\u001b[39m*\u001b[39;49margs, \u001b[39m*\u001b[39;49m\u001b[39m*\u001b[39;49mkwargs)\n",
            "File \u001b[1;32mc:\\Users\\Admin\\AppData\\Local\\Programs\\Python\\Python311\\Lib\\site-packages\\sklearn\\ensemble\\_forest.py:184\u001b[0m, in \u001b[0;36m_parallel_build_trees\u001b[1;34m(tree, bootstrap, X, y, sample_weight, tree_idx, n_trees, verbose, class_weight, n_samples_bootstrap)\u001b[0m\n\u001b[0;32m    181\u001b[0m     \u001b[39melif\u001b[39;00m class_weight \u001b[39m==\u001b[39m \u001b[39m\"\u001b[39m\u001b[39mbalanced_subsample\u001b[39m\u001b[39m\"\u001b[39m:\n\u001b[0;32m    182\u001b[0m         curr_sample_weight \u001b[39m*\u001b[39m\u001b[39m=\u001b[39m compute_sample_weight(\u001b[39m\"\u001b[39m\u001b[39mbalanced\u001b[39m\u001b[39m\"\u001b[39m, y, indices\u001b[39m=\u001b[39mindices)\n\u001b[1;32m--> 184\u001b[0m     tree\u001b[39m.\u001b[39;49mfit(X, y, sample_weight\u001b[39m=\u001b[39;49mcurr_sample_weight, check_input\u001b[39m=\u001b[39;49m\u001b[39mFalse\u001b[39;49;00m)\n\u001b[0;32m    185\u001b[0m \u001b[39melse\u001b[39;00m:\n\u001b[0;32m    186\u001b[0m     tree\u001b[39m.\u001b[39mfit(X, y, sample_weight\u001b[39m=\u001b[39msample_weight, check_input\u001b[39m=\u001b[39m\u001b[39mFalse\u001b[39;00m)\n",
            "File \u001b[1;32mc:\\Users\\Admin\\AppData\\Local\\Programs\\Python\\Python311\\Lib\\site-packages\\sklearn\\tree\\_classes.py:889\u001b[0m, in \u001b[0;36mDecisionTreeClassifier.fit\u001b[1;34m(self, X, y, sample_weight, check_input)\u001b[0m\n\u001b[0;32m    859\u001b[0m \u001b[39mdef\u001b[39;00m \u001b[39mfit\u001b[39m(\u001b[39mself\u001b[39m, X, y, sample_weight\u001b[39m=\u001b[39m\u001b[39mNone\u001b[39;00m, check_input\u001b[39m=\u001b[39m\u001b[39mTrue\u001b[39;00m):\n\u001b[0;32m    860\u001b[0m \u001b[39m    \u001b[39m\u001b[39m\"\"\"Build a decision tree classifier from the training set (X, y).\u001b[39;00m\n\u001b[0;32m    861\u001b[0m \n\u001b[0;32m    862\u001b[0m \u001b[39m    Parameters\u001b[39;00m\n\u001b[1;32m   (...)\u001b[0m\n\u001b[0;32m    886\u001b[0m \u001b[39m        Fitted estimator.\u001b[39;00m\n\u001b[0;32m    887\u001b[0m \u001b[39m    \"\"\"\u001b[39;00m\n\u001b[1;32m--> 889\u001b[0m     \u001b[39msuper\u001b[39;49m()\u001b[39m.\u001b[39;49mfit(\n\u001b[0;32m    890\u001b[0m         X,\n\u001b[0;32m    891\u001b[0m         y,\n\u001b[0;32m    892\u001b[0m         sample_weight\u001b[39m=\u001b[39;49msample_weight,\n\u001b[0;32m    893\u001b[0m         check_input\u001b[39m=\u001b[39;49mcheck_input,\n\u001b[0;32m    894\u001b[0m     )\n\u001b[0;32m    895\u001b[0m     \u001b[39mreturn\u001b[39;00m \u001b[39mself\u001b[39m\n",
            "File \u001b[1;32mc:\\Users\\Admin\\AppData\\Local\\Programs\\Python\\Python311\\Lib\\site-packages\\sklearn\\tree\\_classes.py:379\u001b[0m, in \u001b[0;36mBaseDecisionTree.fit\u001b[1;34m(self, X, y, sample_weight, check_input)\u001b[0m\n\u001b[0;32m    368\u001b[0m \u001b[39melse\u001b[39;00m:\n\u001b[0;32m    369\u001b[0m     builder \u001b[39m=\u001b[39m BestFirstTreeBuilder(\n\u001b[0;32m    370\u001b[0m         splitter,\n\u001b[0;32m    371\u001b[0m         min_samples_split,\n\u001b[1;32m   (...)\u001b[0m\n\u001b[0;32m    376\u001b[0m         \u001b[39mself\u001b[39m\u001b[39m.\u001b[39mmin_impurity_decrease,\n\u001b[0;32m    377\u001b[0m     )\n\u001b[1;32m--> 379\u001b[0m builder\u001b[39m.\u001b[39;49mbuild(\u001b[39mself\u001b[39;49m\u001b[39m.\u001b[39;49mtree_, X, y, sample_weight)\n\u001b[0;32m    381\u001b[0m \u001b[39mif\u001b[39;00m \u001b[39mself\u001b[39m\u001b[39m.\u001b[39mn_outputs_ \u001b[39m==\u001b[39m \u001b[39m1\u001b[39m \u001b[39mand\u001b[39;00m is_classifier(\u001b[39mself\u001b[39m):\n\u001b[0;32m    382\u001b[0m     \u001b[39mself\u001b[39m\u001b[39m.\u001b[39mn_classes_ \u001b[39m=\u001b[39m \u001b[39mself\u001b[39m\u001b[39m.\u001b[39mn_classes_[\u001b[39m0\u001b[39m]\n",
            "\u001b[1;31mKeyboardInterrupt\u001b[0m: "
          ]
        }
      ],
      "source": [
        "# Plot the accuracy graph\n",
        "n_estimators = range(1, 101)  # Number of estimators to plot\n",
        "train_accuracy = []\n",
        "test_accuracy = []\n",
        "\n",
        "for n in n_estimators:\n",
        "    model_rf = RandomForestClassifier(n_estimators=n)\n",
        "    model_rf.fit(x_train, y_train)\n",
        "    y_train_pred = model_rf.predict(x_train)\n",
        "    y_test_pred = model_rf.predict(x_test)\n",
        "    train_accuracy.append(accuracy_score(y_train, y_train_pred))\n",
        "    test_accuracy.append(accuracy_score(y_test, y_test_pred))\n",
        "\n",
        "plt.plot(n_estimators, train_accuracy, label='Train Accuracy')\n",
        "plt.plot(n_estimators, test_accuracy, label='Test Accuracy')\n",
        "plt.xlabel('Number of Estimators')\n",
        "plt.ylabel('Accuracy')\n",
        "plt.title('Random Forest Classifier Accuracy during Training')\n",
        "plt.legend()\n",
        "plt.show()"
      ]
    },
    {
      "cell_type": "code",
      "execution_count": null,
      "metadata": {
        "colab": {
          "base_uri": "https://localhost:8080/",
          "height": 718
        },
        "id": "Ne-sCnsTn_pw",
        "outputId": "ec72b0ca-1884-4ed4-ad0d-8ac933cc9360"
      },
      "outputs": [],
      "source": [
        "plt.figure(figsize = (15,8))\n",
        "sns.heatmap(cm_rf, annot=True, fmt='g', cmap='gist_heat', cbar=True)\n",
        "plt.xlabel(\"Predicted\")\n",
        "plt.ylabel(\"Actual\")\n",
        "plt.title(\"Confusion Matrix for RF\")\n",
        "plt.show()"
      ]
    },
    {
      "attachments": {},
      "cell_type": "markdown",
      "metadata": {
        "id": "c2RSR46CoCjj"
      },
      "source": [
        "### XGB Classifier"
      ]
    },
    {
      "cell_type": "code",
      "execution_count": null,
      "metadata": {
        "id": "zVGSKpSloI_h"
      },
      "outputs": [],
      "source": [
        "model_XGB = xgb.XGBClassifier()"
      ]
    },
    {
      "cell_type": "code",
      "execution_count": null,
      "metadata": {
        "colab": {
          "base_uri": "https://localhost:8080/",
          "height": 304
        },
        "id": "0zpkKc-2oK0q",
        "outputId": "90d82b06-d559-4258-832e-494262a1b340"
      },
      "outputs": [],
      "source": [
        "model_XGB.fit(x_train, y_train, eval_metric='merror', eval_set=evalset, verbose=False)"
      ]
    },
    {
      "cell_type": "code",
      "execution_count": null,
      "metadata": {
        "colab": {
          "base_uri": "https://localhost:8080/"
        },
        "id": "cz-JKWY9oTdG",
        "outputId": "d9be1177-aea6-4256-a309-1799e2d7a3b4"
      },
      "outputs": [],
      "source": [
        "y_pred = model_XGB.predict(x_test)\n",
        "accuracy_xgb = accuracy_score(y_test, y_pred)\n",
        "print(\"Accuracy for XGB: %.2f%%\" % (accuracy_xgb * 100.00))"
      ]
    },
    {
      "cell_type": "code",
      "execution_count": null,
      "metadata": {
        "id": "STcEE8qcydRt"
      },
      "outputs": [],
      "source": [
        "acc = accuracy_score(y_test,y_pred)\n",
        "f1 = f1_score(y_test,y_pred,average='macro')\n",
        "prec = precision_score(y_test,y_pred,average='macro')\n",
        "rec = recall_score(y_test,y_pred,average='macro')"
      ]
    },
    {
      "cell_type": "code",
      "execution_count": null,
      "metadata": {
        "id": "ZdMadU9NzArp"
      },
      "outputs": [],
      "source": [
        "result_xgb = pd.DataFrame(pd.DataFrame([['XGB Classifier', acc, f1, prec, rec]],\n",
        "               columns = ['Model', 'Accuracy', 'F1 Score', 'Precision', 'Recall']))"
      ]
    },
    {
      "cell_type": "code",
      "execution_count": null,
      "metadata": {
        "colab": {
          "base_uri": "https://localhost:8080/",
          "height": 81
        },
        "id": "OP9Ox_yF0Wq6",
        "outputId": "15099f76-ea08-4f67-da1f-62722699d079"
      },
      "outputs": [],
      "source": [
        "result_xgb"
      ]
    },
    {
      "cell_type": "code",
      "execution_count": null,
      "metadata": {
        "id": "c1Qy_ffdzSF6"
      },
      "outputs": [],
      "source": [
        "results= pd.concat([results, result_xgb], ignore_index= True)"
      ]
    },
    {
      "cell_type": "code",
      "execution_count": null,
      "metadata": {
        "id": "VNPwEScBIx4v"
      },
      "outputs": [],
      "source": [
        "accuracy_results = model_XGB.evals_result()\n",
        "train_accuracy = accuracy_results['validation_0']['merror']\n",
        "test_accuracy = accuracy_results['validation_1']['merror']"
      ]
    },
    {
      "cell_type": "code",
      "execution_count": null,
      "metadata": {
        "colab": {
          "base_uri": "https://localhost:8080/",
          "height": 472
        },
        "id": "_Mfz9WMUKXPi",
        "outputId": "1355482f-9f7d-405d-db45-c8c0be0d57c8"
      },
      "outputs": [],
      "source": [
        "# Plot the accuracy graph\n",
        "plt.plot(train_accuracy, label='Train Accuracy')\n",
        "plt.plot(test_accuracy, label='Test Accuracy')\n",
        "plt.xlabel('Number of Iterations')\n",
        "plt.ylabel('Accuracy')\n",
        "plt.title('XGB Classifier Accuracy during Training')\n",
        "plt.legend()\n",
        "plt.show()"
      ]
    },
    {
      "cell_type": "code",
      "execution_count": null,
      "metadata": {
        "id": "zmLlDcmnogV9"
      },
      "outputs": [],
      "source": [
        "cm_xgb = confusion_matrix(y_true, y_pred)"
      ]
    },
    {
      "cell_type": "code",
      "execution_count": null,
      "metadata": {},
      "outputs": [],
      "source": [
        "class_report = classification_report(y_true, y_pred)\n",
        "print(\"Classification Report:\\n\", class_report)"
      ]
    },
    {
      "cell_type": "code",
      "execution_count": null,
      "metadata": {
        "colab": {
          "base_uri": "https://localhost:8080/",
          "height": 718
        },
        "id": "7HrKaSZHoi-r",
        "outputId": "6e815630-42ed-49e8-de00-58f37fa60e85"
      },
      "outputs": [],
      "source": [
        "plt.figure(figsize = (15,8))\n",
        "sns.heatmap(cm_xgb, annot=True, fmt='g', cmap='gist_heat',cbar=True)\n",
        "plt.xlabel(\"Predicted\")\n",
        "plt.ylabel(\"Actual\")\n",
        "plt.title(\"Confusion Matrix for XGB\")\n",
        "plt.show()"
      ]
    },
    {
      "attachments": {},
      "cell_type": "markdown",
      "metadata": {
        "id": "8qLBe7AhtExR"
      },
      "source": [
        "### SVM Classifier\n"
      ]
    },
    {
      "cell_type": "code",
      "execution_count": null,
      "metadata": {
        "id": "lUTtwpx7tExe"
      },
      "outputs": [],
      "source": [
        "model_SVM = svm.SVC(kernel='linear')"
      ]
    },
    {
      "cell_type": "code",
      "execution_count": null,
      "metadata": {
        "colab": {
          "base_uri": "https://localhost:8080/",
          "height": 74
        },
        "id": "aRtsn0WDtExe",
        "outputId": "695dd716-3d3c-4981-f0b5-2972353cf222"
      },
      "outputs": [],
      "source": [
        "model_SVM.fit(x_train, y_train)"
      ]
    },
    {
      "cell_type": "code",
      "execution_count": null,
      "metadata": {
        "colab": {
          "base_uri": "https://localhost:8080/"
        },
        "id": "PdX4RTAqtExf",
        "outputId": "af224bd3-71c2-4de9-8b01-1a403bb27d93"
      },
      "outputs": [],
      "source": [
        "y_pred = model_SVM.predict(x_test)\n",
        "accuracy_svm = accuracy_score(y_test, y_pred)\n",
        "print(\"Accuracy for SVM: %.2f%%\" % (accuracy_svm * 100.00))"
      ]
    },
    {
      "cell_type": "code",
      "execution_count": null,
      "metadata": {
        "id": "8mIFAm2itExf"
      },
      "outputs": [],
      "source": [
        "acc = accuracy_score(y_test,y_pred)\n",
        "f1 = f1_score(y_test,y_pred,average='macro')\n",
        "prec = precision_score(y_test,y_pred,average='macro')\n",
        "rec = recall_score(y_test,y_pred,average='macro')"
      ]
    },
    {
      "cell_type": "code",
      "execution_count": null,
      "metadata": {
        "id": "fActo2_ltExf"
      },
      "outputs": [],
      "source": [
        "results_svm = pd.DataFrame(pd.DataFrame([['SVM Classifier', acc, f1, prec, rec]],\n",
        "               columns = ['Model', 'Accuracy', 'F1 Score', 'Precision', 'Recall']))"
      ]
    },
    {
      "cell_type": "code",
      "execution_count": null,
      "metadata": {
        "colab": {
          "base_uri": "https://localhost:8080/",
          "height": 81
        },
        "id": "hLRrAGkWtExg",
        "outputId": "ae611782-d17d-4b9e-abea-39584416b80b"
      },
      "outputs": [],
      "source": [
        "results_svm"
      ]
    },
    {
      "cell_type": "code",
      "execution_count": null,
      "metadata": {
        "id": "14rbbO1vuuyq"
      },
      "outputs": [],
      "source": [
        "results= pd.concat([results, results_svm], ignore_index= True)"
      ]
    },
    {
      "cell_type": "code",
      "execution_count": null,
      "metadata": {
        "colab": {
          "base_uri": "https://localhost:8080/",
          "height": 472
        },
        "id": "Rf-ELAAqS6oc",
        "outputId": "4e8c47e5-bbf9-43fd-8fb2-974f1941a66a"
      },
      "outputs": [],
      "source": [
        "# Plot the accuracy graph\n",
        "C_values = [0.001, 0.01, 0.1, 1, 10, 100]  # Values of C to plot\n",
        "train_accuracy = []\n",
        "test_accuracy = []\n",
        "\n",
        "for C in C_values:\n",
        "    model_svm = svm.SVC(C=C)\n",
        "    model_svm.fit(x_train, y_train)\n",
        "    y_train_pred = model_svm.predict(x_train)\n",
        "    y_test_pred = model_svm.predict(x_test)\n",
        "    train_accuracy.append(accuracy_score(y_train, y_train_pred))\n",
        "    test_accuracy.append(accuracy_score(y_test, y_test_pred))\n",
        "\n",
        "plt.plot(C_values, train_accuracy, label='Train Accuracy')\n",
        "plt.plot(C_values, test_accuracy, label='Test Accuracy')\n",
        "plt.xlabel('C (Regularization Parameter)')\n",
        "plt.ylabel('Accuracy')\n",
        "plt.title('SVM Classifier Accuracy during Training')\n",
        "plt.legend()\n",
        "plt.show()"
      ]
    },
    {
      "cell_type": "code",
      "execution_count": null,
      "metadata": {
        "id": "oTV3sEO-065v"
      },
      "outputs": [],
      "source": [
        "cm_svm = confusion_matrix(y_true, y_pred)"
      ]
    },
    {
      "cell_type": "code",
      "execution_count": null,
      "metadata": {},
      "outputs": [],
      "source": [
        "class_report = classification_report(y_true, y_pred)\n",
        "print(\"Classification Report:\\n\", class_report)"
      ]
    },
    {
      "cell_type": "code",
      "execution_count": null,
      "metadata": {
        "colab": {
          "base_uri": "https://localhost:8080/",
          "height": 718
        },
        "id": "9bRrY3IotExg",
        "outputId": "656943ca-fc85-40b7-96f9-9fd4d9a3ff1b"
      },
      "outputs": [],
      "source": [
        "plt.figure(figsize = (15,8))\n",
        "sns.heatmap(cm_svm, annot=True, fmt='g', cmap='gist_heat', cbar=True)\n",
        "plt.xlabel(\"Predicted\")\n",
        "plt.ylabel(\"Actual\")\n",
        "plt.title(\"Confusion Matrix for SVM\")\n",
        "plt.show()"
      ]
    },
    {
      "attachments": {},
      "cell_type": "markdown",
      "metadata": {
        "id": "T_FtFeGSwrnt"
      },
      "source": [
        "### GNB Classifier\n"
      ]
    },
    {
      "cell_type": "code",
      "execution_count": null,
      "metadata": {
        "id": "-hJri9yVwrn6"
      },
      "outputs": [],
      "source": [
        "model_GNB = GaussianNB()"
      ]
    },
    {
      "cell_type": "code",
      "execution_count": null,
      "metadata": {
        "colab": {
          "base_uri": "https://localhost:8080/",
          "height": 74
        },
        "id": "8V5IpDZEwrn6",
        "outputId": "8fc7c14f-42f1-4f87-fafe-fe96229d1006"
      },
      "outputs": [],
      "source": [
        "model_GNB.fit(x_train, y_train)"
      ]
    },
    {
      "cell_type": "code",
      "execution_count": null,
      "metadata": {
        "colab": {
          "base_uri": "https://localhost:8080/"
        },
        "id": "DJJfCvPuwrn7",
        "outputId": "acb60b88-837e-4dbc-b2e1-e3ec69a66cd1"
      },
      "outputs": [],
      "source": [
        "y_pred = model_GNB.predict(x_test)\n",
        "accuracy_gnb = accuracy_score(y_test, y_pred)\n",
        "print(\"Accuracy for GNB: %.2f%%\" % (accuracy_gnb * 100.00))"
      ]
    },
    {
      "cell_type": "code",
      "execution_count": null,
      "metadata": {
        "id": "1nYSkQ7ewrn7"
      },
      "outputs": [],
      "source": [
        "acc = accuracy_score(y_test,y_pred)\n",
        "f1 = f1_score(y_test,y_pred,average='micro')\n",
        "prec = precision_score(y_test,y_pred,average='micro')\n",
        "rec = recall_score(y_test,y_pred,average='micro')"
      ]
    },
    {
      "cell_type": "code",
      "execution_count": null,
      "metadata": {
        "id": "7IxuosaGwrn7"
      },
      "outputs": [],
      "source": [
        "results_gnb = pd.DataFrame(pd.DataFrame([['GNB Classifier', acc, f1, prec, rec]],\n",
        "               columns = ['Model', 'Accuracy', 'F1 Score', 'Precision', 'Recall']))"
      ]
    },
    {
      "cell_type": "code",
      "execution_count": null,
      "metadata": {
        "colab": {
          "base_uri": "https://localhost:8080/",
          "height": 81
        },
        "id": "2iIkdIUHwrn8",
        "outputId": "127367e1-d0b4-4120-f8b3-e192b283339d"
      },
      "outputs": [],
      "source": [
        "results_gnb"
      ]
    },
    {
      "cell_type": "code",
      "execution_count": null,
      "metadata": {
        "id": "xktGHS7vwrn8"
      },
      "outputs": [],
      "source": [
        "results= pd.concat([results, results_gnb], ignore_index= True)"
      ]
    },
    {
      "cell_type": "code",
      "execution_count": null,
      "metadata": {
        "colab": {
          "base_uri": "https://localhost:8080/",
          "height": 472
        },
        "id": "OlWpS2zKTVkH",
        "outputId": "fc43297b-6f29-4f2c-cf7a-5695c9a679ab"
      },
      "outputs": [],
      "source": [
        "# Plot the accuracy graph\n",
        "train_accuracy = []\n",
        "test_accuracy = []\n",
        "\n",
        "# Train the model with different training set sizes\n",
        "for i in range(1, 11):\n",
        "    train_size = int(len(x_train) * (i / 10))\n",
        "    x_train_subset = x_train[:train_size]\n",
        "    y_train_subset = y_train[:train_size]\n",
        "    model_GNB.fit(x_train_subset, y_train_subset)\n",
        "    y_train_pred = model_GNB.predict(x_train_subset)\n",
        "    y_test_pred = model_GNB.predict(x_test)\n",
        "    train_accuracy.append(accuracy_score(y_train_subset, y_train_pred))\n",
        "    test_accuracy.append(accuracy_score(y_test, y_test_pred))\n",
        "\n",
        "plt.plot(range(1, 11), train_accuracy, label='Train Accuracy')\n",
        "plt.plot(range(1, 11), test_accuracy, label='Test Accuracy')\n",
        "plt.xlabel('Training Set Size (Percentage)')\n",
        "plt.ylabel('Accuracy')\n",
        "plt.title('GNB Classifier Accuracy during Training')\n",
        "plt.legend()\n",
        "plt.show()"
      ]
    },
    {
      "cell_type": "code",
      "execution_count": null,
      "metadata": {
        "id": "Bqkc8ssVwrn8"
      },
      "outputs": [],
      "source": [
        "cm_gnb = confusion_matrix(y_true, y_pred)"
      ]
    },
    {
      "cell_type": "code",
      "execution_count": null,
      "metadata": {},
      "outputs": [],
      "source": [
        "class_report = classification_report(y_true, y_pred)\n",
        "print(\"Classification Report:\\n\", class_report)"
      ]
    },
    {
      "cell_type": "code",
      "execution_count": null,
      "metadata": {
        "colab": {
          "base_uri": "https://localhost:8080/",
          "height": 718
        },
        "id": "coqOFnjXwrn9",
        "outputId": "da3ca5dc-853c-4874-97d1-43f61e5c5dde"
      },
      "outputs": [],
      "source": [
        "plt.figure(figsize = (15,8))\n",
        "sns.heatmap(cm_gnb, annot=True, fmt='g', cmap='gist_heat', cbar=True)\n",
        "plt.xlabel(\"Predicted\")\n",
        "plt.ylabel(\"Actual\")\n",
        "plt.title(\"Confusion Matrix for GNB\")\n",
        "plt.show()"
      ]
    },
    {
      "attachments": {},
      "cell_type": "markdown",
      "metadata": {},
      "source": [
        "### KNN Classifier"
      ]
    },
    {
      "cell_type": "code",
      "execution_count": null,
      "metadata": {},
      "outputs": [],
      "source": [
        "# Create the KNN classifier\n",
        "model_knn = KNeighborsClassifier(n_neighbors=5)"
      ]
    },
    {
      "cell_type": "code",
      "execution_count": null,
      "metadata": {},
      "outputs": [],
      "source": [
        "# Fit the classifier to the training data\n",
        "model_knn.fit(x_train, y_train)"
      ]
    },
    {
      "cell_type": "code",
      "execution_count": null,
      "metadata": {},
      "outputs": [],
      "source": [
        "# Predict the labels of the test data\n",
        "y_pred = model_knn.predict(x_test)\n",
        "accuracy_knn = accuracy_score(y_test, y_pred)\n",
        "print(\"Accuracy for KNN: %.2f%%\" % (accuracy_knn * 100.00))"
      ]
    },
    {
      "cell_type": "code",
      "execution_count": null,
      "metadata": {},
      "outputs": [],
      "source": [
        "acc = accuracy_score(y_test,y_pred)\n",
        "f1 = f1_score(y_test,y_pred,average='macro')\n",
        "prec = precision_score(y_test,y_pred,average='macro')\n",
        "rec = recall_score(y_test,y_pred,average='macro')"
      ]
    },
    {
      "cell_type": "code",
      "execution_count": null,
      "metadata": {},
      "outputs": [],
      "source": [
        "results_knn = pd.DataFrame(pd.DataFrame([['KNN Classifier', acc, f1, prec, rec]],\n",
        "               columns = ['Model', 'Accuracy', 'F1 Score', 'Precision', 'Recall']))"
      ]
    },
    {
      "cell_type": "code",
      "execution_count": null,
      "metadata": {},
      "outputs": [],
      "source": [
        "results_knn"
      ]
    },
    {
      "cell_type": "code",
      "execution_count": null,
      "metadata": {},
      "outputs": [],
      "source": [
        "results= pd.concat([results, results_knn], ignore_index= True)"
      ]
    },
    {
      "cell_type": "code",
      "execution_count": null,
      "metadata": {},
      "outputs": [],
      "source": [
        "# Vary k from 1 to 10\n",
        "k_values = range(1, 11)\n",
        "\n",
        "# Calculate accuracy for each k on training and test sets\n",
        "train_accuracies = []\n",
        "test_accuracies = []\n",
        "for k in k_values:\n",
        "    knn = KNeighborsClassifier(n_neighbors=k)\n",
        "    knn.fit(x_train, y_train)\n",
        "    \n",
        "    # Calculate accuracy on training data\n",
        "    y_train_pred = knn.predict(x_train)\n",
        "    train_accuracy = accuracy_score(y_train, y_train_pred)\n",
        "    train_accuracies.append(train_accuracy)\n",
        "    \n",
        "    # Calculate accuracy on test data\n",
        "    y_test_pred = knn.predict(x_test)\n",
        "    test_accuracy = accuracy_score(y_test, y_test_pred)\n",
        "    test_accuracies.append(test_accuracy)\n",
        "\n",
        "# Plot the accuracy values for each k on training and test sets\n",
        "plt.plot(k_values, train_accuracies, label='Training accuracy')\n",
        "plt.plot(k_values, test_accuracies, label='Test accuracy')\n",
        "plt.xlabel('Value of k for k-NN')\n",
        "plt.ylabel('Accuracy')\n",
        "plt.title('Accuracy values for different values of k')\n",
        "plt.legend()\n",
        "plt.show()"
      ]
    },
    {
      "cell_type": "code",
      "execution_count": null,
      "metadata": {},
      "outputs": [],
      "source": [
        "cm_knn  = confusion_matrix(y_true,y_pred)"
      ]
    },
    {
      "cell_type": "code",
      "execution_count": null,
      "metadata": {},
      "outputs": [],
      "source": [
        "class_report = classification_report(y_true, y_pred)\n",
        "print(\"Classification Report:\\n\", class_report)"
      ]
    },
    {
      "cell_type": "code",
      "execution_count": null,
      "metadata": {},
      "outputs": [],
      "source": [
        "plt.figure(figsize = (15,8))\n",
        "sns.heatmap(cm_knn, annot=True, fmt='g', cmap='gist_heat',cbar=True)\n",
        "plt.xlabel(\"Predicted\")\n",
        "plt.ylabel(\"Actual\")\n",
        "plt.title(\"Confusion Matrix for KNN\")\n",
        "plt.show()"
      ]
    },
    {
      "attachments": {},
      "cell_type": "markdown",
      "metadata": {},
      "source": [
        "### CNN Classifier"
      ]
    },
    {
      "cell_type": "code",
      "execution_count": null,
      "metadata": {},
      "outputs": [],
      "source": [
        "x_train = x_train.values.reshape(x_train.shape[0], x_train.shape[1], 1)\n",
        "x_test = x_test.values.reshape(x_test.shape[0], x_test.shape[1], 1)"
      ]
    },
    {
      "cell_type": "code",
      "execution_count": null,
      "metadata": {},
      "outputs": [],
      "source": [
        "x_train, x_test, y_train, y_test = train_test_split(x, y, test_size=0.2, random_state=42)"
      ]
    },
    {
      "cell_type": "code",
      "execution_count": null,
      "metadata": {},
      "outputs": [],
      "source": [
        "model = keras.models.Sequential([\n",
        "    keras.layers.Conv1D(filters=32, kernel_size=3, activation='relu', input_shape=(80,1)),\n",
        "    keras.layers.MaxPooling1D(pool_size=2),\n",
        "    keras.layers.Flatten(),\n",
        "    keras.layers.Dense(units=128, activation='relu'),\n",
        "    keras.layers.Dense(units=8, activation='softmax')\n",
        "])"
      ]
    },
    {
      "cell_type": "code",
      "execution_count": null,
      "metadata": {},
      "outputs": [],
      "source": [
        "model.compile(loss='categorical_crossentropy', optimizer='adam', metrics=['accuracy'])"
      ]
    },
    {
      "cell_type": "code",
      "execution_count": null,
      "metadata": {},
      "outputs": [],
      "source": [
        "history = model.fit(x_train, keras.utils.to_categorical(y_train), epochs=20, batch_size=32, \n",
        "validation_data=(x_test, keras.utils.to_categorical(y_test)))"
      ]
    },
    {
      "cell_type": "code",
      "execution_count": null,
      "metadata": {},
      "outputs": [],
      "source": [
        "test_loss, test_acc = model.evaluate(x_test, keras.utils.to_categorical(y_test))\n",
        "print('Accuracy for CNN:', test_acc)"
      ]
    },
    {
      "cell_type": "code",
      "execution_count": null,
      "metadata": {},
      "outputs": [],
      "source": [
        "y_pred = np.argmax(model.predict(x_test), axis=-1)\n",
        "y_test = np.argmax(keras.utils.to_categorical(y_test), axis=-1)"
      ]
    },
    {
      "cell_type": "code",
      "execution_count": null,
      "metadata": {},
      "outputs": [],
      "source": [
        "acc = accuracy_score(y_test,y_pred)\n",
        "f1 = f1_score(y_test,y_pred,average='macro')\n",
        "prec = precision_score(y_test,y_pred,average='macro')\n",
        "rec = recall_score(y_test,y_pred,average='macro')"
      ]
    },
    {
      "cell_type": "code",
      "execution_count": null,
      "metadata": {},
      "outputs": [],
      "source": [
        "results_cnn = pd.DataFrame(pd.DataFrame([['CNN Classifier', acc, f1, prec, rec]],\n",
        "columns = ['Model', 'Accuracy', 'F1 Score', 'Precision', 'Recall']))"
      ]
    },
    {
      "cell_type": "code",
      "execution_count": null,
      "metadata": {},
      "outputs": [],
      "source": [
        "results_cnn"
      ]
    },
    {
      "cell_type": "code",
      "execution_count": null,
      "metadata": {},
      "outputs": [],
      "source": [
        "results= pd.concat([results, results_cnn], ignore_index=True)"
      ]
    },
    {
      "attachments": {},
      "cell_type": "markdown",
      "metadata": {},
      "source": [
        "### ANN Classifier"
      ]
    },
    {
      "cell_type": "code",
      "execution_count": null,
      "metadata": {},
      "outputs": [],
      "source": [
        "model = keras.models.Sequential([\n",
        "    keras.layers.Flatten(input_shape=(80,1)),\n",
        "    keras.layers.Dense(units=128, activation='relu'),\n",
        "    keras.layers.Dense(units=64, activation='relu'),\n",
        "    keras.layers.Dense(units=8, activation='softmax')\n",
        "])"
      ]
    },
    {
      "cell_type": "code",
      "execution_count": null,
      "metadata": {},
      "outputs": [],
      "source": [
        "model.compile(loss='categorical_crossentropy', optimizer='adam', metrics=['accuracy'])\n",
        "history = model.fit(x_train, keras.utils.to_categorical(y_train), epochs=20, batch_size=32, \n",
        "                    validation_data=(x_test, keras.utils.to_categorical(y_test)))"
      ]
    },
    {
      "cell_type": "code",
      "execution_count": null,
      "metadata": {},
      "outputs": [],
      "source": [
        "test_loss, test_acc = model.evaluate(x_test, keras.utils.to_categorical(y_test))\n",
        "print('Accuracy for ANN:', test_acc)"
      ]
    },
    {
      "cell_type": "code",
      "execution_count": null,
      "metadata": {},
      "outputs": [],
      "source": [
        "y_pred = np.argmax(model.predict(x_test), axis=-1)\n",
        "y_test = np.argmax(keras.utils.to_categorical(y_test), axis=-1)"
      ]
    },
    {
      "cell_type": "code",
      "execution_count": null,
      "metadata": {},
      "outputs": [],
      "source": [
        "acc = accuracy_score(y_test,y_pred)\n",
        "f1 = f1_score(y_test,y_pred,average='macro')\n",
        "prec = precision_score(y_test,y_pred,average='macro')\n",
        "rec = recall_score(y_test,y_pred,average='macro')"
      ]
    },
    {
      "cell_type": "code",
      "execution_count": null,
      "metadata": {},
      "outputs": [],
      "source": [
        "results_ann = pd.DataFrame(pd.DataFrame([['ANN Classifier', acc, f1, prec, rec]],\n",
        "columns = ['Model', 'Accuracy', 'F1 Score', 'Precision', 'Recall']))"
      ]
    },
    {
      "cell_type": "code",
      "execution_count": null,
      "metadata": {},
      "outputs": [],
      "source": [
        "results_ann"
      ]
    },
    {
      "cell_type": "code",
      "execution_count": null,
      "metadata": {},
      "outputs": [],
      "source": [
        "results= pd.concat([results, results_ann], ignore_index=True)\n",
        "results"
      ]
    },
    {
      "attachments": {},
      "cell_type": "markdown",
      "metadata": {},
      "source": [
        "### RNN Classifier"
      ]
    },
    {
      "cell_type": "code",
      "execution_count": null,
      "metadata": {},
      "outputs": [],
      "source": [
        "# Define the RNN architecture\n",
        "model_rnn = keras.models.Sequential([\n",
        "    keras.layers.SimpleRNN(units=32, input_shape=x_train.shape[1:]),\n",
        "    keras.layers.Dense(units=8, activation='softmax') # Change units to 8\n",
        "])\n",
        "\n",
        "# Compile the model with categorical crossentropy loss and Adam optimizer\n",
        "model_rnn.compile(loss='categorical_crossentropy', optimizer='adam', metrics=['accuracy'])"
      ]
    },
    {
      "cell_type": "code",
      "execution_count": null,
      "metadata": {},
      "outputs": [],
      "source": [
        "# Train the model on the training data\n",
        "history = model_rnn.fit(x_train, keras.utils.to_categorical(y_train, num_classes=8), epochs=20, batch_size=32, \n",
        "                    validation_data=(x_test, keras.utils.to_categorical(y_test, num_classes=8)))\n",
        "\n",
        "# Evaluate the model on the testing data\n",
        "test_loss, test_acc = model_rnn.evaluate(x_test, keras.utils.to_categorical(y_test, num_classes=8))"
      ]
    },
    {
      "cell_type": "code",
      "execution_count": null,
      "metadata": {},
      "outputs": [],
      "source": [
        "results_rnn = pd.DataFrame(pd.DataFrame([['RNN Classifier', acc, f1, prec, rec]],\n",
        "columns = ['Model', 'Accuracy', 'F1 Score', 'Precision', 'Recall']))"
      ]
    },
    {
      "cell_type": "code",
      "execution_count": null,
      "metadata": {},
      "outputs": [],
      "source": [
        "results"
      ]
    }
  ],
  "metadata": {
    "colab": {
      "collapsed_sections": [
        "1YSc4DbplGLd",
        "mU7ayDz2lGLj",
        "TJWEVkqelGLk",
        "xgrUG2oelGLl",
        "lgsemix2m_Vj",
        "c2RSR46CoCjj",
        "8qLBe7AhtExR",
        "T_FtFeGSwrnt"
      ],
      "provenance": []
    },
    "kernelspec": {
      "display_name": "Python 3",
      "language": "python",
      "name": "python3"
    },
    "language_info": {
      "codemirror_mode": {
        "name": "ipython",
        "version": 3
      },
      "file_extension": ".py",
      "mimetype": "text/x-python",
      "name": "python",
      "nbconvert_exporter": "python",
      "pygments_lexer": "ipython3",
      "version": "3.11.1"
    },
    "orig_nbformat": 4
  },
  "nbformat": 4,
  "nbformat_minor": 0
}
